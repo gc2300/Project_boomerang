{
 "cells": [
  {
   "cell_type": "markdown",
   "id": "f0cc50a8",
   "metadata": {},
   "source": [
    "Improve Conversion Rate the percentage of people who visit the company's demo request website that actually request a demo in the end."
   ]
  }
 ],
 "metadata": {
  "kernelspec": {
   "display_name": "Python 3 (ipykernel)",
   "language": "python",
   "name": "python3"
  },
  "language_info": {
   "codemirror_mode": {
    "name": "ipython",
    "version": 3
   },
   "file_extension": ".py",
   "mimetype": "text/x-python",
   "name": "python",
   "nbconvert_exporter": "python",
   "pygments_lexer": "ipython3",
   "version": "3.9.7"
  }
 },
 "nbformat": 4,
 "nbformat_minor": 5
}
