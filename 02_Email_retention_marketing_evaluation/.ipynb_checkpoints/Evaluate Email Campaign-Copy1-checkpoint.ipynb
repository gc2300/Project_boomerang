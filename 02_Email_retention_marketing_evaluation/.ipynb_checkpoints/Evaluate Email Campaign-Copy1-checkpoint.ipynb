{
 "cells": [
  {
   "cell_type": "code",
   "execution_count": 1,
   "metadata": {},
   "outputs": [],
   "source": [
    "import pandas as pd\n",
    "import numpy as np\n",
    "import statsmodels.api as sm\n",
    "import matplotlib.pyplot as plt\n",
    "import seaborn as sns\n",
    "sns.set_theme()\n",
    "%matplotlib inline\n",
    "plt.rcParams[\"figure.figsize\"] = (8,5)\n",
    "#plt.rcParams[\"figure.figsize\"] = plt.rcParamsDefault[\"figure.figsize\"]"
   ]
  },
  {
   "cell_type": "code",
   "execution_count": null,
   "metadata": {},
   "outputs": [],
   "source": []
  },
  {
   "cell_type": "code",
   "execution_count": 76,
   "metadata": {},
   "outputs": [],
   "source": [
    "from sklearn.model_selection import KFold, StratifiedKFold, train_test_split, cross_validate, cross_val_score\n",
    "# import preprocessing from sklearn\n",
    "from sklearn.linear_model import LogisticRegression\n",
    "from sklearn.model_selection import train_test_split, GridSearchCV, cross_val_score, RepeatedStratifiedKFold, StratifiedKFold\n",
    "from sklearn.metrics import auc, classification_report, f1_score, accuracy_score, confusion_matrix,roc_curve, roc_auc_score, precision_score, recall_score, precision_recall_curve\n",
    "from sklearn import preprocessing\n",
    "from scipy.stats import norm\n"
   ]
  },
  {
   "cell_type": "markdown",
   "metadata": {},
   "source": [
    "# Evaluate email campaign"
   ]
  },
  {
   "cell_type": "markdown",
   "metadata": {},
   "source": [
    "#### Problem Statement\n",
    "The company's product is a marketplace website. Your product manager has asked you to evaluate the impact of the email campaign and provide some insights on how to improve email click-through-rate. That is, the company's marketing department has been sending marketing emails to registered users. They want to increase the percentage of people who click on the company link inside the email out of all the people we send email to.  \n",
    "* **Project goal**: Get registered users click on the link inside email sent to them.\n",
    "* **Target users**: We are targeting getting existing users back. This could have the following potential segments:\n",
    "    * Existing users that have low consumption from the website, and we want to win them back\n",
    "    * Existing users that might be interested in certain popular items (above average conversion rate) from the website, so we want to increase revenue by selling more of these items to these users.\n",
    "* **Methodology**: The emails are sent not in the setting of controlled tests (A/B tests). That is, we are not at the stage of testing specific email campaign's impact. We are exploring potential email campaign ideas and forming hypothesis by sending emails to a subset of the target users to see patterns for different user groups. Based on the result, we know the priority of email campaign ideas and how to personalize email campaigns for each user group.\n",
    "* **Questions to answer**\n",
    "    * How to profile and target our audience corresponding to the goals? Are there other user groups to be defined besides the target users stated above?\n",
    "    * What is a reasonable and tangible objective? Generate a specific number of leads or purchases for an email campaign.\n",
    "    * Segment users not clicking on the link. Where do they drop out? Are the emails delivered properly? Do they open the email? \n",
    "\n",
    "#### Data sources\n",
    "* Email data: It contains information about the emails sent.\n",
    "* Users data: It contains demographic data and consumer data from the user receiving the email. \n",
    "\n",
    "\n",
    "#### Assumptions\n",
    "* We assume each email link click is independent from each other.\n",
    "\n",
    "\n",
    "#### Data Quality Insights\n",
    "\n",
    "#### Methodology\n",
    "\n",
    "#### Conclusion\n",
    "\n",
    "#### Next Step\n",
    "\n"
   ]
  },
  {
   "cell_type": "code",
   "execution_count": null,
   "metadata": {},
   "outputs": [],
   "source": []
  },
  {
   "cell_type": "markdown",
   "metadata": {},
   "source": [
    "# Table of content:\n",
    "1. Read the data & train and test set splitting\n",
    "    * 1.1 Read the data\n",
    "    * 1.2 Train / test split\n",
    "2. Data quality check and cleaning\n",
    "    * 2.1 Outliers handling\n",
    "    * 2.2 Missing data imputing\n",
    "3. Descriptive Stats\n",
    "4. Machine Learning\n",
    "    * 4.1 Methodology - Logistic Regression\n",
    "    * 4.2 Feature engineering\n",
    "    * 4.3 Build Logistic Regression\n",
    "    * 4.4 Model evaluation\n",
    "    * 4.5 Model Diagnosis \n",
    "    * 4.6 Model interpretation\n",
    "5. Product analytics"
   ]
  },
  {
   "cell_type": "code",
   "execution_count": null,
   "metadata": {},
   "outputs": [],
   "source": []
  },
  {
   "cell_type": "markdown",
   "metadata": {},
   "source": [
    "### Below are the code to generate the above analysis and conclusions"
   ]
  },
  {
   "cell_type": "code",
   "execution_count": null,
   "metadata": {},
   "outputs": [],
   "source": []
  },
  {
   "cell_type": "markdown",
   "metadata": {},
   "source": [
    "# 1. Read the data & train and test set splitting"
   ]
  },
  {
   "cell_type": "markdown",
   "metadata": {},
   "source": [
    "## 1.1 Read the data\n",
    "\n",
    "1. **Email data**: It contains information about the emails sent, including user ID, email ID, length of the email (two versions. one is short, the other is long), whether the email is personalized (two versions. One with user's name in the incipit, the other without), the hour when emails were sent, the day of the week when emails were sent.\n",
    "    * Email ID is the primary key\n",
    "    * User ID is the foreign key\n",
    "2. **Users data**: It contains demographic data and consumer data from the user receiving the email, including a user's country, how many times a user has purchased using our company marketplace, whether a user clicked on the link inside the email.\n",
    "    * User ID is the primary key"
   ]
  },
  {
   "cell_type": "code",
   "execution_count": 3,
   "metadata": {},
   "outputs": [],
   "source": [
    "data_path = '/Users/bing/Documents/Data_Science/project_data/email_campaign/'"
   ]
  },
  {
   "cell_type": "code",
   "execution_count": 4,
   "metadata": {},
   "outputs": [],
   "source": [
    "email_data = pd.read_csv(data_path + 'email_data.csv')"
   ]
  },
  {
   "cell_type": "code",
   "execution_count": 5,
   "metadata": {},
   "outputs": [],
   "source": [
    "user_data = pd.read_csv(data_path + 'user_data.csv')"
   ]
  },
  {
   "cell_type": "code",
   "execution_count": 6,
   "metadata": {},
   "outputs": [
    {
     "data": {
      "text/html": [
       "<div>\n",
       "<style scoped>\n",
       "    .dataframe tbody tr th:only-of-type {\n",
       "        vertical-align: middle;\n",
       "    }\n",
       "\n",
       "    .dataframe tbody tr th {\n",
       "        vertical-align: top;\n",
       "    }\n",
       "\n",
       "    .dataframe thead th {\n",
       "        text-align: right;\n",
       "    }\n",
       "</style>\n",
       "<table border=\"1\" class=\"dataframe\">\n",
       "  <thead>\n",
       "    <tr style=\"text-align: right;\">\n",
       "      <th></th>\n",
       "      <th>email_id</th>\n",
       "      <th>email_text</th>\n",
       "      <th>email_version</th>\n",
       "      <th>hour</th>\n",
       "      <th>weekday</th>\n",
       "      <th>user_id</th>\n",
       "    </tr>\n",
       "  </thead>\n",
       "  <tbody>\n",
       "    <tr>\n",
       "      <th>0</th>\n",
       "      <td>8</td>\n",
       "      <td>short_email</td>\n",
       "      <td>generic</td>\n",
       "      <td>9</td>\n",
       "      <td>Thursday</td>\n",
       "      <td>91420</td>\n",
       "    </tr>\n",
       "    <tr>\n",
       "      <th>1</th>\n",
       "      <td>33</td>\n",
       "      <td>long_email</td>\n",
       "      <td>personalized</td>\n",
       "      <td>6</td>\n",
       "      <td>Monday</td>\n",
       "      <td>89864</td>\n",
       "    </tr>\n",
       "    <tr>\n",
       "      <th>2</th>\n",
       "      <td>46</td>\n",
       "      <td>short_email</td>\n",
       "      <td>generic</td>\n",
       "      <td>14</td>\n",
       "      <td>Tuesday</td>\n",
       "      <td>88194</td>\n",
       "    </tr>\n",
       "    <tr>\n",
       "      <th>3</th>\n",
       "      <td>49</td>\n",
       "      <td>long_email</td>\n",
       "      <td>personalized</td>\n",
       "      <td>11</td>\n",
       "      <td>Thursday</td>\n",
       "      <td>2858</td>\n",
       "    </tr>\n",
       "    <tr>\n",
       "      <th>4</th>\n",
       "      <td>65</td>\n",
       "      <td>short_email</td>\n",
       "      <td>generic</td>\n",
       "      <td>8</td>\n",
       "      <td>Wednesday</td>\n",
       "      <td>40969</td>\n",
       "    </tr>\n",
       "  </tbody>\n",
       "</table>\n",
       "</div>"
      ],
      "text/plain": [
       "   email_id   email_text email_version  hour    weekday  user_id\n",
       "0         8  short_email       generic     9   Thursday    91420\n",
       "1        33   long_email  personalized     6     Monday    89864\n",
       "2        46  short_email       generic    14    Tuesday    88194\n",
       "3        49   long_email  personalized    11   Thursday     2858\n",
       "4        65  short_email       generic     8  Wednesday    40969"
      ]
     },
     "execution_count": 6,
     "metadata": {},
     "output_type": "execute_result"
    }
   ],
   "source": [
    "email_data.head()"
   ]
  },
  {
   "cell_type": "code",
   "execution_count": 7,
   "metadata": {},
   "outputs": [
    {
     "data": {
      "text/html": [
       "<div>\n",
       "<style scoped>\n",
       "    .dataframe tbody tr th:only-of-type {\n",
       "        vertical-align: middle;\n",
       "    }\n",
       "\n",
       "    .dataframe tbody tr th {\n",
       "        vertical-align: top;\n",
       "    }\n",
       "\n",
       "    .dataframe thead th {\n",
       "        text-align: right;\n",
       "    }\n",
       "</style>\n",
       "<table border=\"1\" class=\"dataframe\">\n",
       "  <thead>\n",
       "    <tr style=\"text-align: right;\">\n",
       "      <th></th>\n",
       "      <th>user_id</th>\n",
       "      <th>user_country</th>\n",
       "      <th>user_past_purchases</th>\n",
       "      <th>clicked</th>\n",
       "    </tr>\n",
       "  </thead>\n",
       "  <tbody>\n",
       "    <tr>\n",
       "      <th>99945</th>\n",
       "      <td>90411</td>\n",
       "      <td>US</td>\n",
       "      <td>0</td>\n",
       "      <td>0</td>\n",
       "    </tr>\n",
       "    <tr>\n",
       "      <th>99946</th>\n",
       "      <td>84643</td>\n",
       "      <td>US</td>\n",
       "      <td>5</td>\n",
       "      <td>0</td>\n",
       "    </tr>\n",
       "    <tr>\n",
       "      <th>99947</th>\n",
       "      <td>22813</td>\n",
       "      <td>UK</td>\n",
       "      <td>0</td>\n",
       "      <td>0</td>\n",
       "    </tr>\n",
       "    <tr>\n",
       "      <th>99948</th>\n",
       "      <td>45002</td>\n",
       "      <td>FR</td>\n",
       "      <td>4</td>\n",
       "      <td>0</td>\n",
       "    </tr>\n",
       "    <tr>\n",
       "      <th>99949</th>\n",
       "      <td>26377</td>\n",
       "      <td>FR</td>\n",
       "      <td>0</td>\n",
       "      <td>0</td>\n",
       "    </tr>\n",
       "  </tbody>\n",
       "</table>\n",
       "</div>"
      ],
      "text/plain": [
       "       user_id user_country  user_past_purchases  clicked\n",
       "99945    90411           US                    0        0\n",
       "99946    84643           US                    5        0\n",
       "99947    22813           UK                    0        0\n",
       "99948    45002           FR                    4        0\n",
       "99949    26377           FR                    0        0"
      ]
     },
     "execution_count": 7,
     "metadata": {},
     "output_type": "execute_result"
    }
   ],
   "source": [
    "user_data.tail()"
   ]
  },
  {
   "cell_type": "markdown",
   "metadata": {},
   "source": [
    "#### Let's join the two table!"
   ]
  },
  {
   "cell_type": "code",
   "execution_count": 8,
   "metadata": {},
   "outputs": [],
   "source": [
    "email_df = pd.merge(email_data, user_data, on = 'user_id', how = 'left')"
   ]
  },
  {
   "cell_type": "code",
   "execution_count": 9,
   "metadata": {},
   "outputs": [
    {
     "data": {
      "text/html": [
       "<div>\n",
       "<style scoped>\n",
       "    .dataframe tbody tr th:only-of-type {\n",
       "        vertical-align: middle;\n",
       "    }\n",
       "\n",
       "    .dataframe tbody tr th {\n",
       "        vertical-align: top;\n",
       "    }\n",
       "\n",
       "    .dataframe thead th {\n",
       "        text-align: right;\n",
       "    }\n",
       "</style>\n",
       "<table border=\"1\" class=\"dataframe\">\n",
       "  <thead>\n",
       "    <tr style=\"text-align: right;\">\n",
       "      <th></th>\n",
       "      <th>email_id</th>\n",
       "      <th>email_text</th>\n",
       "      <th>email_version</th>\n",
       "      <th>hour</th>\n",
       "      <th>weekday</th>\n",
       "      <th>user_id</th>\n",
       "      <th>user_country</th>\n",
       "      <th>user_past_purchases</th>\n",
       "      <th>clicked</th>\n",
       "    </tr>\n",
       "  </thead>\n",
       "  <tbody>\n",
       "    <tr>\n",
       "      <th>0</th>\n",
       "      <td>8</td>\n",
       "      <td>short_email</td>\n",
       "      <td>generic</td>\n",
       "      <td>9</td>\n",
       "      <td>Thursday</td>\n",
       "      <td>91420</td>\n",
       "      <td>US</td>\n",
       "      <td>3</td>\n",
       "      <td>0</td>\n",
       "    </tr>\n",
       "    <tr>\n",
       "      <th>1</th>\n",
       "      <td>33</td>\n",
       "      <td>long_email</td>\n",
       "      <td>personalized</td>\n",
       "      <td>6</td>\n",
       "      <td>Monday</td>\n",
       "      <td>89864</td>\n",
       "      <td>US</td>\n",
       "      <td>0</td>\n",
       "      <td>0</td>\n",
       "    </tr>\n",
       "    <tr>\n",
       "      <th>2</th>\n",
       "      <td>46</td>\n",
       "      <td>short_email</td>\n",
       "      <td>generic</td>\n",
       "      <td>14</td>\n",
       "      <td>Tuesday</td>\n",
       "      <td>88194</td>\n",
       "      <td>US</td>\n",
       "      <td>3</td>\n",
       "      <td>0</td>\n",
       "    </tr>\n",
       "    <tr>\n",
       "      <th>3</th>\n",
       "      <td>49</td>\n",
       "      <td>long_email</td>\n",
       "      <td>personalized</td>\n",
       "      <td>11</td>\n",
       "      <td>Thursday</td>\n",
       "      <td>2858</td>\n",
       "      <td>US</td>\n",
       "      <td>10</td>\n",
       "      <td>0</td>\n",
       "    </tr>\n",
       "    <tr>\n",
       "      <th>4</th>\n",
       "      <td>65</td>\n",
       "      <td>short_email</td>\n",
       "      <td>generic</td>\n",
       "      <td>8</td>\n",
       "      <td>Wednesday</td>\n",
       "      <td>40969</td>\n",
       "      <td>UK</td>\n",
       "      <td>3</td>\n",
       "      <td>0</td>\n",
       "    </tr>\n",
       "  </tbody>\n",
       "</table>\n",
       "</div>"
      ],
      "text/plain": [
       "   email_id   email_text email_version  hour    weekday  user_id user_country  \\\n",
       "0         8  short_email       generic     9   Thursday    91420           US   \n",
       "1        33   long_email  personalized     6     Monday    89864           US   \n",
       "2        46  short_email       generic    14    Tuesday    88194           US   \n",
       "3        49   long_email  personalized    11   Thursday     2858           US   \n",
       "4        65  short_email       generic     8  Wednesday    40969           UK   \n",
       "\n",
       "   user_past_purchases  clicked  \n",
       "0                    3        0  \n",
       "1                    0        0  \n",
       "2                    3        0  \n",
       "3                   10        0  \n",
       "4                    3        0  "
      ]
     },
     "execution_count": 9,
     "metadata": {},
     "output_type": "execute_result"
    }
   ],
   "source": [
    "email_df.head()"
   ]
  },
  {
   "cell_type": "code",
   "execution_count": 10,
   "metadata": {},
   "outputs": [
    {
     "name": "stdout",
     "output_type": "stream",
     "text": [
      "We only sent one email to each user.\n"
     ]
    }
   ],
   "source": [
    "if email_df.shape[0] == email_df['user_id'].nunique():\n",
    "    print(\"We only sent one email to each user.\")\n",
    "else:\n",
    "    print(\"We sent more than one email to each user.\")\n"
   ]
  },
  {
   "cell_type": "code",
   "execution_count": 11,
   "metadata": {},
   "outputs": [
    {
     "name": "stdout",
     "output_type": "stream",
     "text": [
      "The dimensions of the data set are: 99950 observations and 9 variables.\n"
     ]
    }
   ],
   "source": [
    "print(\"The dimensions of the data set are:\", email_df.shape[0], \"observations and\", email_df.shape[1], \"variables.\" )"
   ]
  },
  {
   "cell_type": "code",
   "execution_count": 12,
   "metadata": {},
   "outputs": [
    {
     "data": {
      "text/html": [
       "<div>\n",
       "<style scoped>\n",
       "    .dataframe tbody tr th:only-of-type {\n",
       "        vertical-align: middle;\n",
       "    }\n",
       "\n",
       "    .dataframe tbody tr th {\n",
       "        vertical-align: top;\n",
       "    }\n",
       "\n",
       "    .dataframe thead th {\n",
       "        text-align: right;\n",
       "    }\n",
       "</style>\n",
       "<table border=\"1\" class=\"dataframe\">\n",
       "  <thead>\n",
       "    <tr style=\"text-align: right;\">\n",
       "      <th></th>\n",
       "      <th>email_id</th>\n",
       "      <th>email_text</th>\n",
       "      <th>email_version</th>\n",
       "      <th>hour</th>\n",
       "      <th>weekday</th>\n",
       "      <th>user_id</th>\n",
       "      <th>user_country</th>\n",
       "      <th>user_past_purchases</th>\n",
       "      <th>clicked</th>\n",
       "    </tr>\n",
       "  </thead>\n",
       "  <tbody>\n",
       "    <tr>\n",
       "      <th>0</th>\n",
       "      <td>8</td>\n",
       "      <td>short_email</td>\n",
       "      <td>generic</td>\n",
       "      <td>9</td>\n",
       "      <td>Thursday</td>\n",
       "      <td>91420</td>\n",
       "      <td>US</td>\n",
       "      <td>3</td>\n",
       "      <td>0</td>\n",
       "    </tr>\n",
       "    <tr>\n",
       "      <th>1</th>\n",
       "      <td>33</td>\n",
       "      <td>long_email</td>\n",
       "      <td>personalized</td>\n",
       "      <td>6</td>\n",
       "      <td>Monday</td>\n",
       "      <td>89864</td>\n",
       "      <td>US</td>\n",
       "      <td>0</td>\n",
       "      <td>0</td>\n",
       "    </tr>\n",
       "    <tr>\n",
       "      <th>2</th>\n",
       "      <td>46</td>\n",
       "      <td>short_email</td>\n",
       "      <td>generic</td>\n",
       "      <td>14</td>\n",
       "      <td>Tuesday</td>\n",
       "      <td>88194</td>\n",
       "      <td>US</td>\n",
       "      <td>3</td>\n",
       "      <td>0</td>\n",
       "    </tr>\n",
       "    <tr>\n",
       "      <th>3</th>\n",
       "      <td>49</td>\n",
       "      <td>long_email</td>\n",
       "      <td>personalized</td>\n",
       "      <td>11</td>\n",
       "      <td>Thursday</td>\n",
       "      <td>2858</td>\n",
       "      <td>US</td>\n",
       "      <td>10</td>\n",
       "      <td>0</td>\n",
       "    </tr>\n",
       "    <tr>\n",
       "      <th>4</th>\n",
       "      <td>65</td>\n",
       "      <td>short_email</td>\n",
       "      <td>generic</td>\n",
       "      <td>8</td>\n",
       "      <td>Wednesday</td>\n",
       "      <td>40969</td>\n",
       "      <td>UK</td>\n",
       "      <td>3</td>\n",
       "      <td>0</td>\n",
       "    </tr>\n",
       "  </tbody>\n",
       "</table>\n",
       "</div>"
      ],
      "text/plain": [
       "   email_id   email_text email_version  hour    weekday  user_id user_country  \\\n",
       "0         8  short_email       generic     9   Thursday    91420           US   \n",
       "1        33   long_email  personalized     6     Monday    89864           US   \n",
       "2        46  short_email       generic    14    Tuesday    88194           US   \n",
       "3        49   long_email  personalized    11   Thursday     2858           US   \n",
       "4        65  short_email       generic     8  Wednesday    40969           UK   \n",
       "\n",
       "   user_past_purchases  clicked  \n",
       "0                    3        0  \n",
       "1                    0        0  \n",
       "2                    3        0  \n",
       "3                   10        0  \n",
       "4                    3        0  "
      ]
     },
     "execution_count": 12,
     "metadata": {},
     "output_type": "execute_result"
    }
   ],
   "source": [
    "email_df.head()"
   ]
  },
  {
   "cell_type": "markdown",
   "metadata": {},
   "source": [
    "Each row represents a distinct email.\n",
    "The columns (in order) are:\n",
    "\n",
    "* **email_id**: Unique id for each email\n",
    "* **email_text**: there are two different versions of the emails sent, short_email and long_email.\n",
    "* **email_version**: personalized emails have the name of the person receiving the email. generic emails have generic greeting.\n",
    "* **hour**: the local time on which the email was sent\n",
    "* **weekday**: the weekday on which the email was sent\n",
    "* **user_id**: Unique id for each user\n",
    "* **user_country**: the country where the person receiving the mail is based. It comes from the user ip address when they registered the account.\n",
    "* **user_past_purchases**: how many times the user has purchased from the website after registration\n",
    "* **clicked**: whether the user has clicked on the link inside the email.\n"
   ]
  },
  {
   "cell_type": "code",
   "execution_count": 13,
   "metadata": {},
   "outputs": [
    {
     "data": {
      "text/plain": [
       "email_id                int64\n",
       "email_text             object\n",
       "email_version          object\n",
       "hour                    int64\n",
       "weekday                object\n",
       "user_id                 int64\n",
       "user_country           object\n",
       "user_past_purchases     int64\n",
       "clicked                 int64\n",
       "dtype: object"
      ]
     },
     "execution_count": 13,
     "metadata": {},
     "output_type": "execute_result"
    }
   ],
   "source": [
    "email_df.dtypes"
   ]
  },
  {
   "cell_type": "markdown",
   "metadata": {},
   "source": [
    "#### The types of variables are correct."
   ]
  },
  {
   "cell_type": "code",
   "execution_count": null,
   "metadata": {},
   "outputs": [],
   "source": []
  },
  {
   "cell_type": "markdown",
   "metadata": {},
   "source": [
    "## 1.2 Train / test split"
   ]
  },
  {
   "cell_type": "markdown",
   "metadata": {},
   "source": [
    "#### The target variable `clicked` has two values, 0 and 1.\n",
    "\n",
    "- It is a binary variable, which means we are dealing with a classification problem. \n",
    "- When split the data set into training and testing set, it is important to make sure the two sets have the same ratios of 1 and 0. \n",
    "    - Use `Sklearn`'s `stratified split`\n",
    "- Since emails are sent in a sequence and might be stored in the same sequence, we need to shuffle the records when splitting them into training / testing set.\n",
    "    - Use `Sklearn`'s `shuffle` feature"
   ]
  },
  {
   "cell_type": "markdown",
   "metadata": {},
   "source": [
    "#### Let's split the entire dataset into training and testing set.  Then, explore the data and figure out how to preprocess the data with the training set. Finally, apply necessary data preprocssing to test set."
   ]
  },
  {
   "cell_type": "code",
   "execution_count": 14,
   "metadata": {},
   "outputs": [
    {
     "data": {
      "text/plain": [
       "['email_id',\n",
       " 'email_text',\n",
       " 'email_version',\n",
       " 'hour',\n",
       " 'weekday',\n",
       " 'user_id',\n",
       " 'user_country',\n",
       " 'user_past_purchases']"
      ]
     },
     "execution_count": 14,
     "metadata": {},
     "output_type": "execute_result"
    }
   ],
   "source": [
    "features = list(email_df.columns)[0:-1]\n",
    "features"
   ]
  },
  {
   "cell_type": "code",
   "execution_count": 15,
   "metadata": {},
   "outputs": [
    {
     "data": {
      "text/plain": [
       "'clicked'"
      ]
     },
     "execution_count": 15,
     "metadata": {},
     "output_type": "execute_result"
    }
   ],
   "source": [
    "target = list(email_df.columns)[-1]\n",
    "target"
   ]
  },
  {
   "cell_type": "code",
   "execution_count": 16,
   "metadata": {},
   "outputs": [],
   "source": [
    "X = email_df[features]\n",
    "y = email_df[target]\n",
    "X_train, X_test, y_train, y_test = train_test_split(X,y, test_size=0.3, random_state=42, \n",
    "                                                    stratify = y,  shuffle=True )"
   ]
  },
  {
   "cell_type": "code",
   "execution_count": 17,
   "metadata": {},
   "outputs": [
    {
     "name": "stdout",
     "output_type": "stream",
     "text": [
      "Percentage of Clicked emails in Training Set \t : 2.07%.\n",
      "Percentage of Clicked emails in Testing Set \t : 2.07%.\n"
     ]
    }
   ],
   "source": [
    "#Check Percentage of clicked emails in Train and Test Set\n",
    "percentage_clicked_training = 100*y_train.sum()/len(y_train)\n",
    "percentage_clicked_testing  = 100*y_test.sum()/len(y_test)\n",
    "                                                  \n",
    "print(\"Percentage of Clicked emails in Training Set \\t : {:0.2f}%.\".format(percentage_clicked_training))\n",
    "print(\"Percentage of Clicked emails in Testing Set \\t : {:0.2f}%.\".format(percentage_clicked_testing))"
   ]
  },
  {
   "cell_type": "markdown",
   "metadata": {},
   "source": [
    "#### We split the training and testing set evenly regarding the ratio of clicked emails! \n",
    "#### However, the ratio of clicked emails is extremely low. We might have a problem with *unbalanced data*, let's explore this later."
   ]
  },
  {
   "cell_type": "code",
   "execution_count": null,
   "metadata": {},
   "outputs": [],
   "source": []
  },
  {
   "cell_type": "markdown",
   "metadata": {},
   "source": [
    "# 2. Data quality check and cleaning - explore indenpendent variables"
   ]
  },
  {
   "cell_type": "code",
   "execution_count": 18,
   "metadata": {},
   "outputs": [
    {
     "data": {
      "text/html": [
       "<div>\n",
       "<style scoped>\n",
       "    .dataframe tbody tr th:only-of-type {\n",
       "        vertical-align: middle;\n",
       "    }\n",
       "\n",
       "    .dataframe tbody tr th {\n",
       "        vertical-align: top;\n",
       "    }\n",
       "\n",
       "    .dataframe thead th {\n",
       "        text-align: right;\n",
       "    }\n",
       "</style>\n",
       "<table border=\"1\" class=\"dataframe\">\n",
       "  <thead>\n",
       "    <tr style=\"text-align: right;\">\n",
       "      <th></th>\n",
       "      <th>email_id</th>\n",
       "      <th>email_text</th>\n",
       "      <th>email_version</th>\n",
       "      <th>hour</th>\n",
       "      <th>weekday</th>\n",
       "      <th>user_id</th>\n",
       "      <th>user_country</th>\n",
       "      <th>user_past_purchases</th>\n",
       "    </tr>\n",
       "  </thead>\n",
       "  <tbody>\n",
       "    <tr>\n",
       "      <th>85425</th>\n",
       "      <td>854505</td>\n",
       "      <td>long_email</td>\n",
       "      <td>generic</td>\n",
       "      <td>8</td>\n",
       "      <td>Tuesday</td>\n",
       "      <td>27502</td>\n",
       "      <td>US</td>\n",
       "      <td>3</td>\n",
       "    </tr>\n",
       "    <tr>\n",
       "      <th>73628</th>\n",
       "      <td>736085</td>\n",
       "      <td>short_email</td>\n",
       "      <td>generic</td>\n",
       "      <td>2</td>\n",
       "      <td>Friday</td>\n",
       "      <td>17686</td>\n",
       "      <td>FR</td>\n",
       "      <td>8</td>\n",
       "    </tr>\n",
       "    <tr>\n",
       "      <th>92205</th>\n",
       "      <td>922368</td>\n",
       "      <td>short_email</td>\n",
       "      <td>personalized</td>\n",
       "      <td>4</td>\n",
       "      <td>Thursday</td>\n",
       "      <td>84276</td>\n",
       "      <td>US</td>\n",
       "      <td>0</td>\n",
       "    </tr>\n",
       "    <tr>\n",
       "      <th>47277</th>\n",
       "      <td>471597</td>\n",
       "      <td>long_email</td>\n",
       "      <td>generic</td>\n",
       "      <td>11</td>\n",
       "      <td>Tuesday</td>\n",
       "      <td>61092</td>\n",
       "      <td>ES</td>\n",
       "      <td>1</td>\n",
       "    </tr>\n",
       "    <tr>\n",
       "      <th>95455</th>\n",
       "      <td>955189</td>\n",
       "      <td>long_email</td>\n",
       "      <td>personalized</td>\n",
       "      <td>6</td>\n",
       "      <td>Saturday</td>\n",
       "      <td>15309</td>\n",
       "      <td>ES</td>\n",
       "      <td>13</td>\n",
       "    </tr>\n",
       "  </tbody>\n",
       "</table>\n",
       "</div>"
      ],
      "text/plain": [
       "       email_id   email_text email_version  hour   weekday  user_id  \\\n",
       "85425    854505   long_email       generic     8   Tuesday    27502   \n",
       "73628    736085  short_email       generic     2    Friday    17686   \n",
       "92205    922368  short_email  personalized     4  Thursday    84276   \n",
       "47277    471597   long_email       generic    11   Tuesday    61092   \n",
       "95455    955189   long_email  personalized     6  Saturday    15309   \n",
       "\n",
       "      user_country  user_past_purchases  \n",
       "85425           US                    3  \n",
       "73628           FR                    8  \n",
       "92205           US                    0  \n",
       "47277           ES                    1  \n",
       "95455           ES                   13  "
      ]
     },
     "execution_count": 18,
     "metadata": {},
     "output_type": "execute_result"
    }
   ],
   "source": [
    "X_train.head()"
   ]
  },
  {
   "cell_type": "markdown",
   "metadata": {},
   "source": [
    "# Take a look at types of independent variables\n",
    "All the independent variables have potential influence to the dependent variables. Some vairables that are manipulated by us and some variables are extra factor but not the focus of an experiment. Let's categorize the variables so we have a better idea how to explore them:\n",
    "\n",
    "* Manipulatable variables:\n",
    "    * **email_id**: Unique id for each email\n",
    "    * **email_text**: there are two different versions of the emails sent, short_email and long_email.\n",
    "    * **email_version**: personalized emails have the name of the person receiving the email. generic emails have generic greeting.\n",
    "    * **hour**: the local time on which the email was sent\n",
    "    * **weekday**: the weekday on which the email was sent\n",
    "\n",
    "* Extra factors:\n",
    "    * Participant variables:\n",
    "        * **user_id**: Unique id for each user\n",
    "        * **user_country**: the country where the person receiving the mail is based. It comes from the user ip address when they registered the account.\n",
    "        * **user_past_purchases**: how many times the user has purchased from the website after registration\n",
    "\n",
    "### We care about how we can modify some independent variables so the target variable can be improved. We don't want the extra factors' influences mixed with those independent variables.  Thus, it's important to control the extra factors while we explore manipulatable variables. \n",
    "\n",
    "\n",
    "# Sanity check \n",
    "* Check if the emails are sent in a randomized way\n",
    "    - There are many combinations of independent variable's value, and each form a segment of how we send emails to whom. e.g. We send an short personalized email to a French user with less than 3 past purchases on a Monday morning .\n",
    "    - Let's see if each combination of indepedendent variable gets equal number of emails.\n"
   ]
  },
  {
   "cell_type": "code",
   "execution_count": null,
   "metadata": {},
   "outputs": [],
   "source": []
  },
  {
   "cell_type": "code",
   "execution_count": null,
   "metadata": {},
   "outputs": [],
   "source": []
  },
  {
   "cell_type": "code",
   "execution_count": null,
   "metadata": {},
   "outputs": [],
   "source": []
  },
  {
   "cell_type": "markdown",
   "metadata": {},
   "source": [
    "## 2.1 Outliers handling\n",
    "This part is done on training set only, not applicable for testing set."
   ]
  },
  {
   "cell_type": "code",
   "execution_count": 19,
   "metadata": {},
   "outputs": [
    {
     "data": {
      "text/html": [
       "<div>\n",
       "<style scoped>\n",
       "    .dataframe tbody tr th:only-of-type {\n",
       "        vertical-align: middle;\n",
       "    }\n",
       "\n",
       "    .dataframe tbody tr th {\n",
       "        vertical-align: top;\n",
       "    }\n",
       "\n",
       "    .dataframe thead th {\n",
       "        text-align: right;\n",
       "    }\n",
       "</style>\n",
       "<table border=\"1\" class=\"dataframe\">\n",
       "  <thead>\n",
       "    <tr style=\"text-align: right;\">\n",
       "      <th></th>\n",
       "      <th>email_id</th>\n",
       "      <th>email_text</th>\n",
       "      <th>email_version</th>\n",
       "      <th>hour</th>\n",
       "      <th>weekday</th>\n",
       "      <th>user_id</th>\n",
       "      <th>user_country</th>\n",
       "      <th>user_past_purchases</th>\n",
       "    </tr>\n",
       "  </thead>\n",
       "  <tbody>\n",
       "    <tr>\n",
       "      <th>count</th>\n",
       "      <td>69965.000000</td>\n",
       "      <td>69965</td>\n",
       "      <td>69965</td>\n",
       "      <td>69965.000000</td>\n",
       "      <td>69965</td>\n",
       "      <td>69965.000000</td>\n",
       "      <td>69965</td>\n",
       "      <td>69965.000000</td>\n",
       "    </tr>\n",
       "    <tr>\n",
       "      <th>unique</th>\n",
       "      <td>NaN</td>\n",
       "      <td>2</td>\n",
       "      <td>2</td>\n",
       "      <td>NaN</td>\n",
       "      <td>7</td>\n",
       "      <td>NaN</td>\n",
       "      <td>4</td>\n",
       "      <td>NaN</td>\n",
       "    </tr>\n",
       "    <tr>\n",
       "      <th>top</th>\n",
       "      <td>NaN</td>\n",
       "      <td>long_email</td>\n",
       "      <td>generic</td>\n",
       "      <td>NaN</td>\n",
       "      <td>Saturday</td>\n",
       "      <td>NaN</td>\n",
       "      <td>US</td>\n",
       "      <td>NaN</td>\n",
       "    </tr>\n",
       "    <tr>\n",
       "      <th>freq</th>\n",
       "      <td>NaN</td>\n",
       "      <td>35271</td>\n",
       "      <td>35176</td>\n",
       "      <td>NaN</td>\n",
       "      <td>10142</td>\n",
       "      <td>NaN</td>\n",
       "      <td>42038</td>\n",
       "      <td>NaN</td>\n",
       "    </tr>\n",
       "    <tr>\n",
       "      <th>mean</th>\n",
       "      <td>498641.205560</td>\n",
       "      <td>NaN</td>\n",
       "      <td>NaN</td>\n",
       "      <td>9.055714</td>\n",
       "      <td>NaN</td>\n",
       "      <td>49880.577289</td>\n",
       "      <td>NaN</td>\n",
       "      <td>3.872336</td>\n",
       "    </tr>\n",
       "    <tr>\n",
       "      <th>std</th>\n",
       "      <td>288529.299802</td>\n",
       "      <td>NaN</td>\n",
       "      <td>NaN</td>\n",
       "      <td>4.440548</td>\n",
       "      <td>NaN</td>\n",
       "      <td>28838.533290</td>\n",
       "      <td>NaN</td>\n",
       "      <td>3.196470</td>\n",
       "    </tr>\n",
       "    <tr>\n",
       "      <th>min</th>\n",
       "      <td>8.000000</td>\n",
       "      <td>NaN</td>\n",
       "      <td>NaN</td>\n",
       "      <td>1.000000</td>\n",
       "      <td>NaN</td>\n",
       "      <td>0.000000</td>\n",
       "      <td>NaN</td>\n",
       "      <td>0.000000</td>\n",
       "    </tr>\n",
       "    <tr>\n",
       "      <th>25%</th>\n",
       "      <td>248854.000000</td>\n",
       "      <td>NaN</td>\n",
       "      <td>NaN</td>\n",
       "      <td>6.000000</td>\n",
       "      <td>NaN</td>\n",
       "      <td>24914.000000</td>\n",
       "      <td>NaN</td>\n",
       "      <td>1.000000</td>\n",
       "    </tr>\n",
       "    <tr>\n",
       "      <th>50%</th>\n",
       "      <td>497558.000000</td>\n",
       "      <td>NaN</td>\n",
       "      <td>NaN</td>\n",
       "      <td>9.000000</td>\n",
       "      <td>NaN</td>\n",
       "      <td>49807.000000</td>\n",
       "      <td>NaN</td>\n",
       "      <td>3.000000</td>\n",
       "    </tr>\n",
       "    <tr>\n",
       "      <th>75%</th>\n",
       "      <td>748455.000000</td>\n",
       "      <td>NaN</td>\n",
       "      <td>NaN</td>\n",
       "      <td>12.000000</td>\n",
       "      <td>NaN</td>\n",
       "      <td>74854.000000</td>\n",
       "      <td>NaN</td>\n",
       "      <td>6.000000</td>\n",
       "    </tr>\n",
       "    <tr>\n",
       "      <th>max</th>\n",
       "      <td>999998.000000</td>\n",
       "      <td>NaN</td>\n",
       "      <td>NaN</td>\n",
       "      <td>24.000000</td>\n",
       "      <td>NaN</td>\n",
       "      <td>99947.000000</td>\n",
       "      <td>NaN</td>\n",
       "      <td>22.000000</td>\n",
       "    </tr>\n",
       "  </tbody>\n",
       "</table>\n",
       "</div>"
      ],
      "text/plain": [
       "             email_id  email_text email_version          hour   weekday  \\\n",
       "count    69965.000000       69965         69965  69965.000000     69965   \n",
       "unique            NaN           2             2           NaN         7   \n",
       "top               NaN  long_email       generic           NaN  Saturday   \n",
       "freq              NaN       35271         35176           NaN     10142   \n",
       "mean    498641.205560         NaN           NaN      9.055714       NaN   \n",
       "std     288529.299802         NaN           NaN      4.440548       NaN   \n",
       "min          8.000000         NaN           NaN      1.000000       NaN   \n",
       "25%     248854.000000         NaN           NaN      6.000000       NaN   \n",
       "50%     497558.000000         NaN           NaN      9.000000       NaN   \n",
       "75%     748455.000000         NaN           NaN     12.000000       NaN   \n",
       "max     999998.000000         NaN           NaN     24.000000       NaN   \n",
       "\n",
       "             user_id user_country  user_past_purchases  \n",
       "count   69965.000000        69965         69965.000000  \n",
       "unique           NaN            4                  NaN  \n",
       "top              NaN           US                  NaN  \n",
       "freq             NaN        42038                  NaN  \n",
       "mean    49880.577289          NaN             3.872336  \n",
       "std     28838.533290          NaN             3.196470  \n",
       "min         0.000000          NaN             0.000000  \n",
       "25%     24914.000000          NaN             1.000000  \n",
       "50%     49807.000000          NaN             3.000000  \n",
       "75%     74854.000000          NaN             6.000000  \n",
       "max     99947.000000          NaN            22.000000  "
      ]
     },
     "execution_count": 19,
     "metadata": {},
     "output_type": "execute_result"
    }
   ],
   "source": [
    "X_train.describe(include='all')"
   ]
  },
  {
   "cell_type": "markdown",
   "metadata": {},
   "source": [
    "### Outliers checklist:\n",
    "- Numerical variables\n",
    "    1. Some numerical variables should only have positive values:\n",
    "        - hour, user_past_purchases are all positive\n",
    "    2. Is there any variable with extreme values?\n",
    "        - hour: It does not seem to follow a uniform distribution. Assume following normal distribution, judge by the mean and +- 2 * standard deviation, the max hour of 24 seems fall out of the 95% range. Needs to be invesitgated.\n",
    "        - User_past_purchases: Assume following normal distribution. Judge by the mean and +- 2 * standard deviation, it seems the data distribution is right skewed, with extreme values. Needs to be investigated.\n",
    "- Categorical variables\n",
    "    1. Does the number of levels of each variable make sense?\n",
    "        - email_text, email_version, weekday, user_country all seem to have reasonable number of levels.\n",
    "    2. Does the distribution of levels of each variable seem right?\n",
    "        - Needs to be verified."
   ]
  },
  {
   "cell_type": "markdown",
   "metadata": {},
   "source": [
    "#### Here we only explore independent variables. In the next section, we will explore the relationship between independent variable with the target variable."
   ]
  },
  {
   "cell_type": "markdown",
   "metadata": {},
   "source": [
    "### Investigate `hour`, `User_past_purchases`  outlier"
   ]
  },
  {
   "cell_type": "code",
   "execution_count": 20,
   "metadata": {},
   "outputs": [
    {
     "data": {
      "text/plain": [
       "Text(0, 0.5, 'Normalized frequencies')"
      ]
     },
     "execution_count": 20,
     "metadata": {},
     "output_type": "execute_result"
    },
    {
     "data": {
      "image/png": "[encoded data removed]",
      "text/plain": [
       "<Figure size 1080x576 with 4 Axes>"
      ]
     },
     "metadata": {
      "needs_background": "light"
     },
     "output_type": "display_data"
    }
   ],
   "source": [
    "sns.set_context(\"notebook\", font_scale=1.4, rc={\"lines.linewidth\": 2.5})\n",
    "fig, ax = plt.subplots(nrows=2, ncols=2, figsize=(15, 8),constrained_layout = True)\n",
    "ax = ax.ravel()\n",
    "\n",
    "sns.histplot(x ='hour', data = X_train, ax=ax[0])\n",
    "ax[0].set_title('Number of emails sent by hour')\n",
    "ax[0].set_ylabel('Number of emails')\n",
    "\n",
    "sns.histplot(x ='user_past_purchases', data = X_train, ax=ax[1])\n",
    "ax[1].set_title('The distribution of user past purchase')\n",
    "ax[1].set_ylabel('Number of emails')\n",
    "\n",
    "sns.boxplot(x ='hour', data = X_train, ax=ax[2])\n",
    "ax[2].set_title('Boxplot of hours')\n",
    "ax[2].set_ylabel('Normalized frequencies')\n",
    "\n",
    "sns.boxplot(x ='user_past_purchases', data = X_train, ax=ax[3])\n",
    "ax[3].set_title('Boxplot of number of purchased by user in the past')\n",
    "ax[3].set_ylabel('Normalized frequencies')\n",
    "\n"
   ]
  },
  {
   "cell_type": "code",
   "execution_count": null,
   "metadata": {},
   "outputs": [],
   "source": []
  },
  {
   "cell_type": "markdown",
   "metadata": {},
   "source": [
    "### Investigate the distribution of categorical variables\n",
    "* Let's first check the distribution of each categorical variable over the entire training set. \n",
    "    * If the distributions are uneven across different categories, then we need to be more aware of **Simpson's paradox**.\n"
   ]
  },
  {
   "cell_type": "code",
   "execution_count": 181,
   "metadata": {},
   "outputs": [
    {
     "data": {
      "text/plain": [
       "Text(0.5, 1.0, \"Number of emails sent by users' country\")"
      ]
     },
     "execution_count": 181,
     "metadata": {},
     "output_type": "execute_result"
    },
    {
     "data": {
      "image/png": "[encoded data removed]",
      "text/plain": [
       "<Figure size 1080x576 with 4 Axes>"
      ]
     },
     "metadata": {
      "needs_background": "light"
     },
     "output_type": "display_data"
    }
   ],
   "source": [
    "sns.set_context(\"notebook\", font_scale=1.4, rc={\"lines.linewidth\": 2.5})\n",
    "plt.figure(1,figsize=(15, 8),constrained_layout = True )\n",
    "\n",
    "plt.subplot(2,2,1)\n",
    "X_train.groupby(['weekday']).size().plot.bar()\n",
    "plt.xticks(rotation = 0)\n",
    "plt.title(\"Number of emails sent by day of the week\")\n",
    "\n",
    "plt.subplot(2,2,2)\n",
    "X_train.groupby(['email_text']).size().plot.bar()\n",
    "plt.xticks(rotation = 0)\n",
    "plt.title(\"Number of emails sent by length of the email\")\n",
    "\n",
    "\n",
    "plt.subplot(2,2,3)\n",
    "X_train.groupby(['email_version']).size().plot.bar()\n",
    "plt.xticks(rotation = 0)\n",
    "plt.title(\"Number of emails sent by versions of the email\")\n",
    "\n",
    "plt.subplot(2,2,4)\n",
    "X_train.groupby(['user_country']).size().plot.bar()\n",
    "plt.xticks(rotation = 0)\n",
    "plt.title(\"Number of emails sent by users' country\")"
   ]
  },
  {
   "cell_type": "markdown",
   "metadata": {},
   "source": [
    "### Check the distribution of data across different combinations of independent variables"
   ]
  },
  {
   "cell_type": "code",
   "execution_count": 1,
   "metadata": {},
   "outputs": [
    {
     "ename": "NameError",
     "evalue": "name 'sns' is not defined",
     "output_type": "error",
     "traceback": [
      "\u001b[0;31m---------------------------------------------------------------------------\u001b[0m",
      "\u001b[0;31mNameError\u001b[0m                                 Traceback (most recent call last)",
      "\u001b[0;32m/var/folders/kg/bv3hl8sn4q51tkkxn_j7cm740000gn/T/ipykernel_6554/1448907438.py\u001b[0m in \u001b[0;36m<module>\u001b[0;34m\u001b[0m\n\u001b[0;32m----> 1\u001b[0;31m \u001b[0msns\u001b[0m\u001b[0;34m.\u001b[0m\u001b[0mset_context\u001b[0m\u001b[0;34m(\u001b[0m\u001b[0;34m\"notebook\"\u001b[0m\u001b[0;34m,\u001b[0m \u001b[0mfont_scale\u001b[0m\u001b[0;34m=\u001b[0m\u001b[0;36m1.4\u001b[0m\u001b[0;34m,\u001b[0m \u001b[0mrc\u001b[0m\u001b[0;34m=\u001b[0m\u001b[0;34m{\u001b[0m\u001b[0;34m\"lines.linewidth\"\u001b[0m\u001b[0;34m:\u001b[0m \u001b[0;36m2.5\u001b[0m\u001b[0;34m}\u001b[0m\u001b[0;34m)\u001b[0m\u001b[0;34m\u001b[0m\u001b[0;34m\u001b[0m\u001b[0m\n\u001b[0m\u001b[1;32m      2\u001b[0m \u001b[0mfig\u001b[0m\u001b[0;34m,\u001b[0m \u001b[0max\u001b[0m \u001b[0;34m=\u001b[0m \u001b[0mplt\u001b[0m\u001b[0;34m.\u001b[0m\u001b[0msubplots\u001b[0m\u001b[0;34m(\u001b[0m\u001b[0mnrows\u001b[0m\u001b[0;34m=\u001b[0m\u001b[0;36m2\u001b[0m\u001b[0;34m,\u001b[0m \u001b[0mncols\u001b[0m\u001b[0;34m=\u001b[0m\u001b[0;36m2\u001b[0m\u001b[0;34m,\u001b[0m \u001b[0mfigsize\u001b[0m\u001b[0;34m=\u001b[0m\u001b[0;34m(\u001b[0m\u001b[0;36m15\u001b[0m\u001b[0;34m,\u001b[0m \u001b[0;36m8\u001b[0m\u001b[0;34m)\u001b[0m\u001b[0;34m,\u001b[0m\u001b[0mconstrained_layout\u001b[0m \u001b[0;34m=\u001b[0m \u001b[0;32mTrue\u001b[0m\u001b[0;34m)\u001b[0m\u001b[0;34m\u001b[0m\u001b[0;34m\u001b[0m\u001b[0m\n\u001b[1;32m      3\u001b[0m \u001b[0max\u001b[0m \u001b[0;34m=\u001b[0m \u001b[0max\u001b[0m\u001b[0;34m.\u001b[0m\u001b[0mravel\u001b[0m\u001b[0;34m(\u001b[0m\u001b[0;34m)\u001b[0m\u001b[0;34m\u001b[0m\u001b[0;34m\u001b[0m\u001b[0m\n\u001b[1;32m      4\u001b[0m \u001b[0;34m\u001b[0m\u001b[0m\n\u001b[1;32m      5\u001b[0m \u001b[0msns\u001b[0m\u001b[0;34m.\u001b[0m\u001b[0mhistplot\u001b[0m\u001b[0;34m(\u001b[0m\u001b[0mx\u001b[0m \u001b[0;34m=\u001b[0m\u001b[0;34m'hour'\u001b[0m\u001b[0;34m,\u001b[0m \u001b[0mdata\u001b[0m \u001b[0;34m=\u001b[0m \u001b[0mX_train\u001b[0m\u001b[0;34m,\u001b[0m \u001b[0max\u001b[0m\u001b[0;34m=\u001b[0m\u001b[0max\u001b[0m\u001b[0;34m[\u001b[0m\u001b[0;36m0\u001b[0m\u001b[0;34m]\u001b[0m\u001b[0;34m,\u001b[0m \u001b[0mhue\u001b[0m \u001b[0;34m=\u001b[0m \u001b[0;34m'user_country'\u001b[0m\u001b[0;34m,\u001b[0m \u001b[0malpha\u001b[0m\u001b[0;34m=\u001b[0m\u001b[0;36m0.5\u001b[0m\u001b[0;34m)\u001b[0m\u001b[0;34m\u001b[0m\u001b[0;34m\u001b[0m\u001b[0m\n",
      "\u001b[0;31mNameError\u001b[0m: name 'sns' is not defined"
     ]
    }
   ],
   "source": [
    "sns.set_context(\"notebook\", font_scale=1.4, rc={\"lines.linewidth\": 2.5})\n",
    "fig, ax = plt.subplots(nrows=2, ncols=2, figsize=(15, 8),constrained_layout = True)\n",
    "ax = ax.ravel()\n",
    "\n",
    "sns.histplot(x ='hour', data = X_train, ax=ax[0], hue = 'user_country')\n",
    "ax[0].set_title('Number of emails sent by hour')\n",
    "ax[0].set_ylabel('Number of emails')\n",
    "\n",
    "sns.histplot(x ='user_past_purchases', data = X_train, ax=ax[1], hue = 'user_country')\n",
    "ax[1].set_title('The distribution of user past purchase')\n",
    "ax[1].set_ylabel('Number of emails')\n",
    "\n",
    "sns.boxplot(x ='hour', data = X_train, ax=ax[2], hue = 'user_country')\n",
    "ax[2].set_title('Boxplot of hours')\n",
    "ax[2].set_ylabel('Normalized frequencies')\n",
    "\n",
    "sns.boxplot(x ='user_past_purchases', data = X_train, ax=ax[3], hue = 'user_country')\n",
    "ax[3].set_title('Boxplot of number of purchased by user in the past')\n",
    "ax[3].set_ylabel('Normalized frequencies')"
   ]
  },
  {
   "cell_type": "code",
   "execution_count": null,
   "metadata": {},
   "outputs": [],
   "source": []
  },
  {
   "cell_type": "markdown",
   "metadata": {},
   "source": [
    "### A few quick observations of overall patterns:\n",
    "- More emails are sent out during mornings\n",
    "    - Some hours in the late night seem to have very few emails sent. Might cause some models' parameter estimates have high variance, but they are good segments for some users to receive emails. After confirming the emails sent in late night with engineers who are in charge of this project, it turns out those emails are legitimate.  let's keep them.\n",
    "- Most of the users puchased very few times after registration.\n",
    "    - Users with more than 13 purchases are outliers, but the max number of purchases is 22, which still makes sense. Let's keep them.\n"
   ]
  },
  {
   "cell_type": "code",
   "execution_count": null,
   "metadata": {},
   "outputs": [],
   "source": []
  },
  {
   "cell_type": "markdown",
   "metadata": {},
   "source": [
    "## How to deal with outliers?\n",
    "* Outliers can be caused by data entry errors or the script recording data is not working correctly. We need to check the data with engineers.\n",
    "* However, they sometimes represent power users. We need to check the independent variables' relationship with the target variable to see if the outliers needs to be removed. See the following session `Descriptive Statistics`."
   ]
  },
  {
   "cell_type": "code",
   "execution_count": null,
   "metadata": {},
   "outputs": [],
   "source": []
  },
  {
   "cell_type": "markdown",
   "metadata": {},
   "source": [
    "## 2.2 Missing data imputing"
   ]
  },
  {
   "cell_type": "code",
   "execution_count": 22,
   "metadata": {},
   "outputs": [
    {
     "name": "stdout",
     "output_type": "stream",
     "text": [
      "<class 'pandas.core.frame.DataFrame'>\n",
      "Int64Index: 69965 entries, 85425 to 68104\n",
      "Data columns (total 8 columns):\n",
      " #   Column               Non-Null Count  Dtype \n",
      "---  ------               --------------  ----- \n",
      " 0   email_id             69965 non-null  int64 \n",
      " 1   email_text           69965 non-null  object\n",
      " 2   email_version        69965 non-null  object\n",
      " 3   hour                 69965 non-null  int64 \n",
      " 4   weekday              69965 non-null  object\n",
      " 5   user_id              69965 non-null  int64 \n",
      " 6   user_country         69965 non-null  object\n",
      " 7   user_past_purchases  69965 non-null  int64 \n",
      "dtypes: int64(4), object(4)\n",
      "memory usage: 6.8+ MB\n"
     ]
    }
   ],
   "source": [
    "X_train.info()"
   ]
  },
  {
   "cell_type": "markdown",
   "metadata": {},
   "source": [
    "#### There are no missing data."
   ]
  },
  {
   "cell_type": "code",
   "execution_count": null,
   "metadata": {},
   "outputs": [],
   "source": []
  },
  {
   "cell_type": "code",
   "execution_count": null,
   "metadata": {},
   "outputs": [],
   "source": []
  },
  {
   "cell_type": "markdown",
   "metadata": {},
   "source": [
    "# 3. Explore the relationship between independent variable and target variable\n",
    "\n",
    "Now, let’s quickly investigate the variables and how their distribution differs for the two classes of the target variable. This will help us understand whether there is any information in our data in the first place and get a sense of the data.\n",
    "\n",
    "\n",
    "# We need to check\n",
    "* confounding factor\n",
    "* interaction \n",
    "* independent\n",
    "* linear relation\n",
    "\n"
   ]
  },
  {
   "cell_type": "code",
   "execution_count": 23,
   "metadata": {},
   "outputs": [],
   "source": [
    "train_df = X_train.join(y_train)"
   ]
  },
  {
   "cell_type": "code",
   "execution_count": 24,
   "metadata": {},
   "outputs": [
    {
     "data": {
      "text/html": [
       "<div>\n",
       "<style scoped>\n",
       "    .dataframe tbody tr th:only-of-type {\n",
       "        vertical-align: middle;\n",
       "    }\n",
       "\n",
       "    .dataframe tbody tr th {\n",
       "        vertical-align: top;\n",
       "    }\n",
       "\n",
       "    .dataframe thead th {\n",
       "        text-align: right;\n",
       "    }\n",
       "</style>\n",
       "<table border=\"1\" class=\"dataframe\">\n",
       "  <thead>\n",
       "    <tr style=\"text-align: right;\">\n",
       "      <th></th>\n",
       "      <th>email_id</th>\n",
       "      <th>email_text</th>\n",
       "      <th>email_version</th>\n",
       "      <th>hour</th>\n",
       "      <th>weekday</th>\n",
       "      <th>user_id</th>\n",
       "      <th>user_country</th>\n",
       "      <th>user_past_purchases</th>\n",
       "      <th>clicked</th>\n",
       "    </tr>\n",
       "  </thead>\n",
       "  <tbody>\n",
       "    <tr>\n",
       "      <th>85425</th>\n",
       "      <td>854505</td>\n",
       "      <td>long_email</td>\n",
       "      <td>generic</td>\n",
       "      <td>8</td>\n",
       "      <td>Tuesday</td>\n",
       "      <td>27502</td>\n",
       "      <td>US</td>\n",
       "      <td>3</td>\n",
       "      <td>0</td>\n",
       "    </tr>\n",
       "    <tr>\n",
       "      <th>73628</th>\n",
       "      <td>736085</td>\n",
       "      <td>short_email</td>\n",
       "      <td>generic</td>\n",
       "      <td>2</td>\n",
       "      <td>Friday</td>\n",
       "      <td>17686</td>\n",
       "      <td>FR</td>\n",
       "      <td>8</td>\n",
       "      <td>0</td>\n",
       "    </tr>\n",
       "    <tr>\n",
       "      <th>92205</th>\n",
       "      <td>922368</td>\n",
       "      <td>short_email</td>\n",
       "      <td>personalized</td>\n",
       "      <td>4</td>\n",
       "      <td>Thursday</td>\n",
       "      <td>84276</td>\n",
       "      <td>US</td>\n",
       "      <td>0</td>\n",
       "      <td>0</td>\n",
       "    </tr>\n",
       "    <tr>\n",
       "      <th>47277</th>\n",
       "      <td>471597</td>\n",
       "      <td>long_email</td>\n",
       "      <td>generic</td>\n",
       "      <td>11</td>\n",
       "      <td>Tuesday</td>\n",
       "      <td>61092</td>\n",
       "      <td>ES</td>\n",
       "      <td>1</td>\n",
       "      <td>0</td>\n",
       "    </tr>\n",
       "    <tr>\n",
       "      <th>95455</th>\n",
       "      <td>955189</td>\n",
       "      <td>long_email</td>\n",
       "      <td>personalized</td>\n",
       "      <td>6</td>\n",
       "      <td>Saturday</td>\n",
       "      <td>15309</td>\n",
       "      <td>ES</td>\n",
       "      <td>13</td>\n",
       "      <td>0</td>\n",
       "    </tr>\n",
       "  </tbody>\n",
       "</table>\n",
       "</div>"
      ],
      "text/plain": [
       "       email_id   email_text email_version  hour   weekday  user_id  \\\n",
       "85425    854505   long_email       generic     8   Tuesday    27502   \n",
       "73628    736085  short_email       generic     2    Friday    17686   \n",
       "92205    922368  short_email  personalized     4  Thursday    84276   \n",
       "47277    471597   long_email       generic    11   Tuesday    61092   \n",
       "95455    955189   long_email  personalized     6  Saturday    15309   \n",
       "\n",
       "      user_country  user_past_purchases  clicked  \n",
       "85425           US                    3        0  \n",
       "73628           FR                    8        0  \n",
       "92205           US                    0        0  \n",
       "47277           ES                    1        0  \n",
       "95455           ES                   13        0  "
      ]
     },
     "execution_count": 24,
     "metadata": {},
     "output_type": "execute_result"
    }
   ],
   "source": [
    "train_df.head()"
   ]
  },
  {
   "cell_type": "markdown",
   "metadata": {},
   "source": [
    "## **Simpson's paradox** alert: \n",
    "- Let's first check the distribution of each categorical variable over the entire training set. \n",
    "    * However, this overall distribution of each variable can be misleading since we have several categorical variable, **Simpson's paradox**.\n",
    "- Then we need to check detailed segments of different combinations of categorical variables.\n",
    "    * Check if each segments have the same trend as when they are combined.\n",
    "- Now that we have several independent variables, we might run into Simpson's paradox, which means a trend for a group might change its direction if we break the group into subgroups. E.g. Overall short emails might have a higher click-through-rate but if we break the users into countries, we might find long emails have a higher click-through-rate for each country.\n",
    "- To detect this, let's plot independent variables vs. target variables."
   ]
  },
  {
   "cell_type": "code",
   "execution_count": 182,
   "metadata": {},
   "outputs": [
    {
     "data": {
      "text/html": [
       "<div>\n",
       "<style scoped>\n",
       "    .dataframe tbody tr th:only-of-type {\n",
       "        vertical-align: middle;\n",
       "    }\n",
       "\n",
       "    .dataframe tbody tr th {\n",
       "        vertical-align: top;\n",
       "    }\n",
       "\n",
       "    .dataframe thead th {\n",
       "        text-align: right;\n",
       "    }\n",
       "</style>\n",
       "<table border=\"1\" class=\"dataframe\">\n",
       "  <thead>\n",
       "    <tr style=\"text-align: right;\">\n",
       "      <th></th>\n",
       "      <th>email_id</th>\n",
       "      <th>email_text</th>\n",
       "      <th>email_version</th>\n",
       "      <th>hour</th>\n",
       "      <th>weekday</th>\n",
       "      <th>user_id</th>\n",
       "      <th>user_country</th>\n",
       "      <th>user_past_purchases</th>\n",
       "      <th>clicked</th>\n",
       "    </tr>\n",
       "  </thead>\n",
       "  <tbody>\n",
       "    <tr>\n",
       "      <th>85425</th>\n",
       "      <td>854505</td>\n",
       "      <td>long_email</td>\n",
       "      <td>generic</td>\n",
       "      <td>8</td>\n",
       "      <td>Tuesday</td>\n",
       "      <td>27502</td>\n",
       "      <td>US</td>\n",
       "      <td>3</td>\n",
       "      <td>0</td>\n",
       "    </tr>\n",
       "    <tr>\n",
       "      <th>73628</th>\n",
       "      <td>736085</td>\n",
       "      <td>short_email</td>\n",
       "      <td>generic</td>\n",
       "      <td>2</td>\n",
       "      <td>Friday</td>\n",
       "      <td>17686</td>\n",
       "      <td>FR</td>\n",
       "      <td>8</td>\n",
       "      <td>0</td>\n",
       "    </tr>\n",
       "    <tr>\n",
       "      <th>92205</th>\n",
       "      <td>922368</td>\n",
       "      <td>short_email</td>\n",
       "      <td>personalized</td>\n",
       "      <td>4</td>\n",
       "      <td>Thursday</td>\n",
       "      <td>84276</td>\n",
       "      <td>US</td>\n",
       "      <td>0</td>\n",
       "      <td>0</td>\n",
       "    </tr>\n",
       "    <tr>\n",
       "      <th>47277</th>\n",
       "      <td>471597</td>\n",
       "      <td>long_email</td>\n",
       "      <td>generic</td>\n",
       "      <td>11</td>\n",
       "      <td>Tuesday</td>\n",
       "      <td>61092</td>\n",
       "      <td>ES</td>\n",
       "      <td>1</td>\n",
       "      <td>0</td>\n",
       "    </tr>\n",
       "    <tr>\n",
       "      <th>95455</th>\n",
       "      <td>955189</td>\n",
       "      <td>long_email</td>\n",
       "      <td>personalized</td>\n",
       "      <td>6</td>\n",
       "      <td>Saturday</td>\n",
       "      <td>15309</td>\n",
       "      <td>ES</td>\n",
       "      <td>13</td>\n",
       "      <td>0</td>\n",
       "    </tr>\n",
       "  </tbody>\n",
       "</table>\n",
       "</div>"
      ],
      "text/plain": [
       "       email_id   email_text email_version  hour   weekday  user_id  \\\n",
       "85425    854505   long_email       generic     8   Tuesday    27502   \n",
       "73628    736085  short_email       generic     2    Friday    17686   \n",
       "92205    922368  short_email  personalized     4  Thursday    84276   \n",
       "47277    471597   long_email       generic    11   Tuesday    61092   \n",
       "95455    955189   long_email  personalized     6  Saturday    15309   \n",
       "\n",
       "      user_country  user_past_purchases  clicked  \n",
       "85425           US                    3        0  \n",
       "73628           FR                    8        0  \n",
       "92205           US                    0        0  \n",
       "47277           ES                    1        0  \n",
       "95455           ES                   13        0  "
      ]
     },
     "execution_count": 182,
     "metadata": {},
     "output_type": "execute_result"
    }
   ],
   "source": [
    "train_df.head()"
   ]
  },
  {
   "cell_type": "code",
   "execution_count": 207,
   "metadata": {},
   "outputs": [],
   "source": [
    "def plot_simpson_paradox(df, weekday):\n",
    "    unique_country_list = train_df['user_country'].unique()\n",
    "\n",
    "    sns.set_context(\"notebook\", font_scale=1, rc={\"lines.linewidth\": 2.5})\n",
    "    plt.figure(1,figsize=(20, 8),constrained_layout = True )\n",
    "    for i in range(len(unique_country_list)):\n",
    "        country = unique_country_list[i]\n",
    "        plt.subplot(2,2,i+1)\n",
    "        train_df.loc[(train_df['weekday']==weekday) & (train_df['user_country'] == country)].groupby(['email_text','email_version'])['clicked'].mean().plot.bar()\n",
    "        plt.xticks(rotation = 0)\n",
    "        plt.title(\"Click-through-rate of {}\".format(country))"
   ]
  },
  {
   "cell_type": "code",
   "execution_count": 209,
   "metadata": {},
   "outputs": [
    {
     "data": {
      "image/png": "[encoded data removed]",
      "text/plain": [
       "<Figure size 1440x576 with 4 Axes>"
      ]
     },
     "metadata": {
      "needs_background": "light"
     },
     "output_type": "display_data"
    }
   ],
   "source": [
    "plot_simpson_paradox(train_df, 'Monday')"
   ]
  },
  {
   "cell_type": "code",
   "execution_count": 210,
   "metadata": {},
   "outputs": [
    {
     "data": {
      "image/png": "[encoded data removed]",
      "text/plain": [
       "<Figure size 1440x576 with 4 Axes>"
      ]
     },
     "metadata": {
      "needs_background": "light"
     },
     "output_type": "display_data"
    }
   ],
   "source": [
    "plot_simpson_paradox(train_df, 'Tuesday')"
   ]
  },
  {
   "cell_type": "code",
   "execution_count": 208,
   "metadata": {},
   "outputs": [
    {
     "data": {
      "image/png": "[encoded data removed]",
      "text/plain": [
       "<Figure size 1440x576 with 4 Axes>"
      ]
     },
     "metadata": {
      "needs_background": "light"
     },
     "output_type": "display_data"
    }
   ],
   "source": [
    "plot_simpson_paradox(train_df, 'Wednesday')"
   ]
  },
  {
   "cell_type": "code",
   "execution_count": 211,
   "metadata": {},
   "outputs": [
    {
     "data": {
      "image/png": "[encoded data removed]",
      "text/plain": [
       "<Figure size 1440x576 with 4 Axes>"
      ]
     },
     "metadata": {
      "needs_background": "light"
     },
     "output_type": "display_data"
    }
   ],
   "source": [
    "plot_simpson_paradox(train_df, 'Thursday')"
   ]
  },
  {
   "cell_type": "code",
   "execution_count": 212,
   "metadata": {},
   "outputs": [
    {
     "data": {
      "image/png": "[encoded data removed]",
      "text/plain": [
       "<Figure size 1440x576 with 4 Axes>"
      ]
     },
     "metadata": {
      "needs_background": "light"
     },
     "output_type": "display_data"
    }
   ],
   "source": [
    "plot_simpson_paradox(train_df, 'Friday')"
   ]
  },
  {
   "cell_type": "code",
   "execution_count": 213,
   "metadata": {},
   "outputs": [
    {
     "data": {
      "image/png": "[encoded data removed]",
      "text/plain": [
       "<Figure size 1440x576 with 4 Axes>"
      ]
     },
     "metadata": {
      "needs_background": "light"
     },
     "output_type": "display_data"
    }
   ],
   "source": [
    "plot_simpson_paradox(train_df, 'Saturday')"
   ]
  },
  {
   "cell_type": "code",
   "execution_count": 214,
   "metadata": {},
   "outputs": [
    {
     "data": {
      "image/png": "[encoded data removed]",
      "text/plain": [
       "<Figure size 1440x576 with 4 Axes>"
      ]
     },
     "metadata": {
      "needs_background": "light"
     },
     "output_type": "display_data"
    }
   ],
   "source": [
    "plot_simpson_paradox(train_df, 'Sunday')"
   ]
  },
  {
   "cell_type": "code",
   "execution_count": null,
   "metadata": {},
   "outputs": [],
   "source": []
  },
  {
   "cell_type": "code",
   "execution_count": null,
   "metadata": {},
   "outputs": [],
   "source": []
  },
  {
   "cell_type": "code",
   "execution_count": null,
   "metadata": {},
   "outputs": [],
   "source": []
  },
  {
   "cell_type": "code",
   "execution_count": 184,
   "metadata": {
    "scrolled": false
   },
   "outputs": [
    {
     "data": {
      "text/plain": [
       "Text(0.5, 1.0, \"Click-through-rate by user's country\")"
      ]
     },
     "execution_count": 184,
     "metadata": {},
     "output_type": "execute_result"
    },
    {
     "data": {
      "image/png": "[encoded data removed]",
      "text/plain": [
       "<Figure size 1080x576 with 4 Axes>"
      ]
     },
     "metadata": {
      "needs_background": "light"
     },
     "output_type": "display_data"
    }
   ],
   "source": [
    "sns.set_context(\"notebook\", font_scale=1.4, rc={\"lines.linewidth\": 2.5})\n",
    "plt.figure(1,figsize=(15, 8),constrained_layout = True )\n",
    "\n",
    "plt.subplot(2,2,1)\n",
    "train_df.groupby(['email_text'])['clicked'].mean().plot.bar()\n",
    "plt.xticks(rotation = 0)\n",
    "plt.title(\"Click-through-rate by length of email\")\n",
    "\n",
    "plt.subplot(2,2,2)\n",
    "train_df.groupby(['email_version'])['clicked'].mean().plot.bar()\n",
    "plt.xticks(rotation = 0)\n",
    "plt.title(\"Click-through-rate by personalization of email\")\n",
    "\n",
    "plt.subplot(2,2,3)\n",
    "train_df.groupby(['weekday'])['clicked'].mean().plot.bar()\n",
    "plt.xticks(rotation = 0)\n",
    "plt.title(\"Click-through-rate by day of the week\")\n",
    "\n",
    "plt.subplot(2,2,4)\n",
    "train_df.groupby(['user_country'])['clicked'].mean().plot.bar()\n",
    "plt.xticks(rotation = 0)\n",
    "plt.title(\"Click-through-rate by user's country\")"
   ]
  },
  {
   "cell_type": "markdown",
   "metadata": {},
   "source": [
    "### A few quick observations:\n",
    "* Short emails seem to have higher CTR than longer emails.\n",
    "* Personalized emails seem to have higher CTR than generic ones.\n",
    "* Early week days have higher CTR than Friday and weekends.\n",
    "* English speaking countries have higher CTR than non-English speaking countries\n"
   ]
  },
  {
   "cell_type": "code",
   "execution_count": 26,
   "metadata": {},
   "outputs": [
    {
     "data": {
      "text/plain": [
       "Text(0.5, 1.0, 'Click-through-rate by user past purchase')"
      ]
     },
     "execution_count": 26,
     "metadata": {},
     "output_type": "execute_result"
    },
    {
     "data": {
      "image/png": "[encoded data removed]",
      "text/plain": [
       "<Figure size 864x576 with 2 Axes>"
      ]
     },
     "metadata": {
      "needs_background": "light"
     },
     "output_type": "display_data"
    }
   ],
   "source": [
    "sns.set_context(\"notebook\", font_scale=1.4, rc={\"lines.linewidth\": 2.5})\n",
    "plt.figure(1,figsize=(12, 8),constrained_layout = True)\n",
    "\n",
    "plt.subplot(2,1,1)\n",
    "train_df.groupby(['hour'])['clicked'].mean().plot()\n",
    "hour_col = train_df['hour'].dropna().values\n",
    "plt.axvline(x=np.mean(hour_col), color='red', label='average hour')\n",
    "plt.axvline(x=np.percentile(hour_col, 25), color='red', linestyle='--', label='lower quartile')\n",
    "plt.axvline(x=np.percentile(hour_col, 75), color='red', linestyle='--', label='upper quartile')\n",
    "plt.xticks(rotation = 0)\n",
    "plt.title(\"Click-through-rate by hour when email sent\")\n",
    "plt.legend()\n",
    "\n",
    "\n",
    "plt.subplot(2,1,2)\n",
    "train_df.groupby(['user_past_purchases'])['clicked'].mean().plot()\n",
    "user_past_pur = train_df['user_past_purchases'].dropna().values\n",
    "plt.axvline(x=np.mean(user_past_pur), color='red', label='average past purchases')\n",
    "plt.axvline(x=np.percentile(user_past_pur, 25), color='red', linestyle='--', label='lower quartile')\n",
    "plt.axvline(x=np.percentile(user_past_pur, 75), color='red', linestyle='--', label='upper quartile')\n",
    "plt.legend()\n",
    "plt.xticks(rotation = 0)\n",
    "plt.title(\"Click-through-rate by user past purchase\")\n"
   ]
  },
  {
   "cell_type": "markdown",
   "metadata": {},
   "source": [
    "### A few quick observations:\n",
    "* Emails sent in the day time have higher CTR. However, we have some late evening hour have high CTR too.\n",
    "    - Based on the outlier analysis, those late evening hours have very few emails sent comparing to other hours, which might lead to instable result.\n",
    "* The more purchases in the past, the higher CTR from those users.\n",
    "    - Users with past purchases over 20 have extreme high CTR. Again, the outlier analysis shows that the number of users with more than 13 purchases are very rare. \n",
    "    - Those user can be power users that have very high consumption from our platform, so they can be very valuable information. If we want to focus on these users, we should keep them and use models that easily influenced by outliers.\n",
    "    \n",
    "### This suggests:\n",
    "- When we care about improving an **average user**'s CTR, we should use models that are robust with outliers (Decision Tree-based models) or remove the outliers before using models that are easily influenced by outliers.\n",
    "- When we focus on **power users**, which have very high number of purchased in the past, we should keep the outlier of `user_past_purchase` and choose a model that easily influenced by outliers (e.g. Logistic regression).\n",
    "\n",
    "### Our decision\n",
    "- After discuss with Project Manager, we decide to focus on average users, so we will remove outliers for models that easily influenced by outliers."
   ]
  },
  {
   "cell_type": "markdown",
   "metadata": {},
   "source": [
    "### Outliers handling: Create an outlier free training set:"
   ]
  },
  {
   "cell_type": "code",
   "execution_count": 27,
   "metadata": {},
   "outputs": [
    {
     "data": {
      "text/html": [
       "<div>\n",
       "<style scoped>\n",
       "    .dataframe tbody tr th:only-of-type {\n",
       "        vertical-align: middle;\n",
       "    }\n",
       "\n",
       "    .dataframe tbody tr th {\n",
       "        vertical-align: top;\n",
       "    }\n",
       "\n",
       "    .dataframe thead th {\n",
       "        text-align: right;\n",
       "    }\n",
       "</style>\n",
       "<table border=\"1\" class=\"dataframe\">\n",
       "  <thead>\n",
       "    <tr style=\"text-align: right;\">\n",
       "      <th></th>\n",
       "      <th>email_id</th>\n",
       "      <th>email_text</th>\n",
       "      <th>email_version</th>\n",
       "      <th>hour</th>\n",
       "      <th>weekday</th>\n",
       "      <th>user_id</th>\n",
       "      <th>user_country</th>\n",
       "      <th>user_past_purchases</th>\n",
       "      <th>clicked</th>\n",
       "    </tr>\n",
       "  </thead>\n",
       "  <tbody>\n",
       "    <tr>\n",
       "      <th>85425</th>\n",
       "      <td>854505</td>\n",
       "      <td>long_email</td>\n",
       "      <td>generic</td>\n",
       "      <td>8</td>\n",
       "      <td>Tuesday</td>\n",
       "      <td>27502</td>\n",
       "      <td>US</td>\n",
       "      <td>3</td>\n",
       "      <td>0</td>\n",
       "    </tr>\n",
       "    <tr>\n",
       "      <th>73628</th>\n",
       "      <td>736085</td>\n",
       "      <td>short_email</td>\n",
       "      <td>generic</td>\n",
       "      <td>2</td>\n",
       "      <td>Friday</td>\n",
       "      <td>17686</td>\n",
       "      <td>FR</td>\n",
       "      <td>8</td>\n",
       "      <td>0</td>\n",
       "    </tr>\n",
       "    <tr>\n",
       "      <th>92205</th>\n",
       "      <td>922368</td>\n",
       "      <td>short_email</td>\n",
       "      <td>personalized</td>\n",
       "      <td>4</td>\n",
       "      <td>Thursday</td>\n",
       "      <td>84276</td>\n",
       "      <td>US</td>\n",
       "      <td>0</td>\n",
       "      <td>0</td>\n",
       "    </tr>\n",
       "    <tr>\n",
       "      <th>47277</th>\n",
       "      <td>471597</td>\n",
       "      <td>long_email</td>\n",
       "      <td>generic</td>\n",
       "      <td>11</td>\n",
       "      <td>Tuesday</td>\n",
       "      <td>61092</td>\n",
       "      <td>ES</td>\n",
       "      <td>1</td>\n",
       "      <td>0</td>\n",
       "    </tr>\n",
       "    <tr>\n",
       "      <th>95455</th>\n",
       "      <td>955189</td>\n",
       "      <td>long_email</td>\n",
       "      <td>personalized</td>\n",
       "      <td>6</td>\n",
       "      <td>Saturday</td>\n",
       "      <td>15309</td>\n",
       "      <td>ES</td>\n",
       "      <td>13</td>\n",
       "      <td>0</td>\n",
       "    </tr>\n",
       "  </tbody>\n",
       "</table>\n",
       "</div>"
      ],
      "text/plain": [
       "       email_id   email_text email_version  hour   weekday  user_id  \\\n",
       "85425    854505   long_email       generic     8   Tuesday    27502   \n",
       "73628    736085  short_email       generic     2    Friday    17686   \n",
       "92205    922368  short_email  personalized     4  Thursday    84276   \n",
       "47277    471597   long_email       generic    11   Tuesday    61092   \n",
       "95455    955189   long_email  personalized     6  Saturday    15309   \n",
       "\n",
       "      user_country  user_past_purchases  clicked  \n",
       "85425           US                    3        0  \n",
       "73628           FR                    8        0  \n",
       "92205           US                    0        0  \n",
       "47277           ES                    1        0  \n",
       "95455           ES                   13        0  "
      ]
     },
     "execution_count": 27,
     "metadata": {},
     "output_type": "execute_result"
    }
   ],
   "source": [
    "train_df.head()"
   ]
  },
  {
   "cell_type": "code",
   "execution_count": 28,
   "metadata": {},
   "outputs": [],
   "source": [
    "def remove_outlier(df, column):\n",
    "    Q1 = df[column].quantile(0.25)\n",
    "    Q3 = df[column].quantile(0.75)\n",
    "    IQR = Q3 - Q1\n",
    "    Lower_Fence = Q1 - (1.5 * IQR)\n",
    "    Upper_Fence = Q3 + (1.5 * IQR)\n",
    "    return df[(df[column] > Lower_Fence) & (df[column] <Upper_Fence)]"
   ]
  },
  {
   "cell_type": "code",
   "execution_count": 29,
   "metadata": {},
   "outputs": [],
   "source": [
    "clean_train_df = remove_outlier(train_df, 'hour')"
   ]
  },
  {
   "cell_type": "code",
   "execution_count": 30,
   "metadata": {},
   "outputs": [],
   "source": [
    "clean_train_df = remove_outlier(clean_train_df, 'user_past_purchases')"
   ]
  },
  {
   "cell_type": "code",
   "execution_count": 31,
   "metadata": {},
   "outputs": [],
   "source": [
    "clean_X_train = clean_train_df[list(clean_train_df.columns)[0:-1]]\n",
    "clean_y_train = clean_train_df[list(clean_train_df.columns)[-1]]"
   ]
  },
  {
   "cell_type": "markdown",
   "metadata": {},
   "source": [
    "#### Test of the outliers are removed from `hour` and `user_past_purchases`"
   ]
  },
  {
   "cell_type": "code",
   "execution_count": 32,
   "metadata": {},
   "outputs": [
    {
     "data": {
      "text/html": [
       "<div>\n",
       "<style scoped>\n",
       "    .dataframe tbody tr th:only-of-type {\n",
       "        vertical-align: middle;\n",
       "    }\n",
       "\n",
       "    .dataframe tbody tr th {\n",
       "        vertical-align: top;\n",
       "    }\n",
       "\n",
       "    .dataframe thead th {\n",
       "        text-align: right;\n",
       "    }\n",
       "</style>\n",
       "<table border=\"1\" class=\"dataframe\">\n",
       "  <thead>\n",
       "    <tr style=\"text-align: right;\">\n",
       "      <th></th>\n",
       "      <th>email_id</th>\n",
       "      <th>email_text</th>\n",
       "      <th>email_version</th>\n",
       "      <th>hour</th>\n",
       "      <th>weekday</th>\n",
       "      <th>user_id</th>\n",
       "      <th>user_country</th>\n",
       "      <th>user_past_purchases</th>\n",
       "    </tr>\n",
       "  </thead>\n",
       "  <tbody>\n",
       "  </tbody>\n",
       "</table>\n",
       "</div>"
      ],
      "text/plain": [
       "Empty DataFrame\n",
       "Columns: [email_id, email_text, email_version, hour, weekday, user_id, user_country, user_past_purchases]\n",
       "Index: []"
      ]
     },
     "execution_count": 32,
     "metadata": {},
     "output_type": "execute_result"
    }
   ],
   "source": [
    "clean_X_train[clean_X_train['hour'] > 21]"
   ]
  },
  {
   "cell_type": "code",
   "execution_count": 33,
   "metadata": {},
   "outputs": [
    {
     "data": {
      "text/html": [
       "<div>\n",
       "<style scoped>\n",
       "    .dataframe tbody tr th:only-of-type {\n",
       "        vertical-align: middle;\n",
       "    }\n",
       "\n",
       "    .dataframe tbody tr th {\n",
       "        vertical-align: top;\n",
       "    }\n",
       "\n",
       "    .dataframe thead th {\n",
       "        text-align: right;\n",
       "    }\n",
       "</style>\n",
       "<table border=\"1\" class=\"dataframe\">\n",
       "  <thead>\n",
       "    <tr style=\"text-align: right;\">\n",
       "      <th></th>\n",
       "      <th>email_id</th>\n",
       "      <th>email_text</th>\n",
       "      <th>email_version</th>\n",
       "      <th>hour</th>\n",
       "      <th>weekday</th>\n",
       "      <th>user_id</th>\n",
       "      <th>user_country</th>\n",
       "      <th>user_past_purchases</th>\n",
       "    </tr>\n",
       "  </thead>\n",
       "  <tbody>\n",
       "  </tbody>\n",
       "</table>\n",
       "</div>"
      ],
      "text/plain": [
       "Empty DataFrame\n",
       "Columns: [email_id, email_text, email_version, hour, weekday, user_id, user_country, user_past_purchases]\n",
       "Index: []"
      ]
     },
     "execution_count": 33,
     "metadata": {},
     "output_type": "execute_result"
    }
   ],
   "source": [
    "clean_X_train[clean_X_train['user_past_purchases'] > 14]"
   ]
  },
  {
   "cell_type": "markdown",
   "metadata": {},
   "source": [
    "### clean_X_train, clean_y_train are the predictors and target variable that should be used for models that easily  influenced by outliers."
   ]
  },
  {
   "cell_type": "code",
   "execution_count": null,
   "metadata": {},
   "outputs": [],
   "source": []
  },
  {
   "cell_type": "markdown",
   "metadata": {},
   "source": [
    "# 4. Analysis plan\n",
    "\n",
    "Let's now build models to predict click-through-rate. Outcome is binary and we care about **insights** to give product and marketing team project ideas. We should probably choose among the following options\n",
    "1. Logistic Regression\n",
    "2. Decision Trees\n",
    "3. Random Forest\n",
    "4. Boosted Decision Trees\n"
   ]
  },
  {
   "cell_type": "markdown",
   "metadata": {},
   "source": [
    "#### I'm going to pick Logistic regression for getting a basic understanding of how each variable influence the target so that we could know the priority of potential projects.\n",
    "#### I'm going to pick Boosted Decision Trees for personalize email sending strategies. Since we only have a few variables, it's likely that a bagging method (Random Forest) will underfit. I will use a simple decision tree to visualize the main strategy for the Boosted Decision Tree. It's not exactly the same but will demonstrate the main idea.\n",
    "#### I'm going to conduct an A/B test to check if the new personalized email sending strategy worth launching."
   ]
  },
  {
   "cell_type": "code",
   "execution_count": null,
   "metadata": {},
   "outputs": [],
   "source": []
  },
  {
   "cell_type": "markdown",
   "metadata": {},
   "source": [
    "# 5. Use logistic regression to priotize potential projects"
   ]
  },
  {
   "cell_type": "markdown",
   "metadata": {},
   "source": [
    "\n",
    "## 5.1 Methodology - Logistic Regression:\n",
    "* Pros:\n",
    "    * It's a good baseline model for us to compare with other model's result.\n",
    "    * More people in the company are familiar with this model. It's easier to present work to audience that are familiar with the technique used.\n",
    "    * Interpretation is straightforward. The model's result can tell us how the odds that the result classified as positive will change if we change one unit in numerical predictor or change to another level in categorical predictor.\n",
    "    * It's simple, fast, and generally reliable. Model coefficient values and their p-values are easy to check with.\n",
    "    * Regularization can help with reduce multicollinearity, avoid overfitting, and feature selection.\n",
    "* Cons:\n",
    "    * We need to check model assumes:\n",
    "        1. Assumption of Appropriate Outcome Type: Binary logistic regression requires the dependent variable to be binary and ordinal logistic regression requires the dependent variable to be ordinal.\n",
    "        2. Assumption of Linearity of independent variables and log-odds: Logistic regression assumes linearity of independent variables and log odds. Although this analysis does not require the dependent and independent variables to be related linearly, it requires that the independent variables are linearly related to the log odds.\n",
    "        3. Assumption of No strongly influential outliers\n",
    "        4. Assumption of Absence of Multicollinearity: Logistic regression requires there to be little or no multicollinearity among the independent variables. This means that the independent variables should not be too highly correlated with each other.\n",
    "        5. Assumption of Independence of observations: Logistic regression requires the observations to be independent of each other. In other words, the observations should not come from repeated measurements or matched data.\n",
    "        6. Assumption of Sufficiently large sample size: Finally, logistic regression typically requires a large sample size. A general guideline is that you need at minimum of 10 cases with the least frequent outcome for each independent variable in your model. For example, if you have 5 independent variables and the expected probability of your least frequent outcome is .10, then you would need a minimum sample size of 500 (10*5 / .10).\n",
    "        7. Assumptions difference between logistric regression and linear regression.\n",
    "            - (1) logistic regression does not require a linear relationship between the dependent and independent variables \n",
    "            - (2) the error terms (residuals) do not need to be normally distributed \n",
    "            - (3) homoscedasticity is not required\n",
    "            - (4) the dependent variable in logistic regression is not measured on an interval or ratio scale.\n",
    "\n",
    "    * Model coefficients does not give clear segments of a variable. For instance, a positive coefficient in front of variable age means that as age increases, the output keeps increasing as well. This is unlikely to be true for most numerical. What we need is segments of the age variable and how each of them associated with the output.\n",
    "    * It requires normalization to: \n",
    "        1. Apply regularization.\n",
    "        2. Compare variable importance based on the absolute value of coefficients. \n",
    "        * We could normalize variables, so they are all on the same scale. However, it's rarely a good idea if our goal is presenting to product people.\n",
    "\n"
   ]
  },
  {
   "cell_type": "markdown",
   "metadata": {},
   "source": [
    "## 5.2 Feature engineering:\n",
    "clean_X_train, clean_y_train are the training set without outliers, which are suitable for logistic regression.\n",
    "\n",
    "1. Binning non-linear continuous numerical variables: \n",
    "    - Logistic regression assumes linearity of independent variables and log odds. However, this is hardly true for most of the non-linear numerical variables. \n",
    "        * `hour` will be binned into 3 groups (morning, afternoon, night)\n",
    "        * From the plot above, `user_past_purchase` seem to have a linear relationship with the log odds, let's keep it as it is.\n",
    "2. Encode the categorical variables."
   ]
  },
  {
   "cell_type": "markdown",
   "metadata": {},
   "source": [
    "### 5.2 (1)  Binning non-linear continuous variables"
   ]
  },
  {
   "cell_type": "code",
   "execution_count": 35,
   "metadata": {},
   "outputs": [],
   "source": [
    "def binning(df):\n",
    "    #Bin the variables accoding to the rules described above\n",
    "    #Hour\n",
    "    df['hour_binned'] = pd.cut(df['hour'], bins=[1,5, 13, 21, 24], include_lowest=True, labels=['night', 'morning', 'afternoon', 'night2'])\n",
    "    #replace night2 with night\n",
    "    df['hour_binned'] = df['hour_binned'].replace('night2', 'night').cat.remove_unused_categories()\n",
    "    return df"
   ]
  },
  {
   "cell_type": "code",
   "execution_count": 36,
   "metadata": {},
   "outputs": [],
   "source": [
    "#Process X_train\n",
    "#Bin the variables accoding to the rules described above\n",
    "clean_X_train = binning(clean_X_train)"
   ]
  },
  {
   "cell_type": "code",
   "execution_count": 37,
   "metadata": {},
   "outputs": [],
   "source": [
    "#Process X_test\n",
    "#Bin the variables accoding to the rules described above\n",
    "X_test_processed = X_test.copy()\n",
    "X_test_processed = binning(X_test_processed)"
   ]
  },
  {
   "cell_type": "code",
   "execution_count": null,
   "metadata": {},
   "outputs": [],
   "source": []
  },
  {
   "cell_type": "markdown",
   "metadata": {},
   "source": [
    "### 5.2 (2) Encode categorical variables."
   ]
  },
  {
   "cell_type": "code",
   "execution_count": 38,
   "metadata": {},
   "outputs": [
    {
     "data": {
      "text/plain": [
       "email_id                  int64\n",
       "email_text               object\n",
       "email_version            object\n",
       "hour                      int64\n",
       "weekday                  object\n",
       "user_id                   int64\n",
       "user_country             object\n",
       "user_past_purchases       int64\n",
       "hour_binned            category\n",
       "dtype: object"
      ]
     },
     "execution_count": 38,
     "metadata": {},
     "output_type": "execute_result"
    }
   ],
   "source": [
    "clean_X_train.dtypes"
   ]
  },
  {
   "cell_type": "code",
   "execution_count": 39,
   "metadata": {},
   "outputs": [],
   "source": [
    "def cate_encoding(df):\n",
    "    #Before building the regression, we need to know which ones are the reference levels for the categorical variables\n",
    "    #only keep categorical variables\n",
    "    obj_cols = df.select_dtypes(['object']).columns.tolist()\n",
    "    df.loc[:,obj_cols] = df[obj_cols].astype('category')\n",
    "    #only keep categorical variables\n",
    "    df_categorical = df.select_dtypes(['category'])\n",
    "    #find reference level, i.e. the first level\n",
    "    print(df_categorical.apply(lambda x: x.cat.categories[0]))\n",
    "    # drop the columns that won't be used\n",
    "    df = df.drop(['hour','user_id', 'email_id'], axis=1)\n",
    "    df_dummy = pd.get_dummies(df, drop_first=True)\n",
    "    return df_dummy"
   ]
  },
  {
   "cell_type": "code",
   "execution_count": 40,
   "metadata": {},
   "outputs": [
    {
     "name": "stdout",
     "output_type": "stream",
     "text": [
      "email_text       long_email\n",
      "email_version       generic\n",
      "weekday              Friday\n",
      "user_country             ES\n",
      "hour_binned           night\n",
      "dtype: object\n"
     ]
    }
   ],
   "source": [
    "clean_X_train_dummy = cate_encoding(clean_X_train)"
   ]
  },
  {
   "cell_type": "code",
   "execution_count": 41,
   "metadata": {},
   "outputs": [
    {
     "name": "stdout",
     "output_type": "stream",
     "text": [
      "email_text       long_email\n",
      "email_version       generic\n",
      "weekday              Friday\n",
      "user_country             ES\n",
      "hour_binned           night\n",
      "dtype: object\n"
     ]
    }
   ],
   "source": [
    "X_test_dummy = cate_encoding(X_test_processed)"
   ]
  },
  {
   "cell_type": "code",
   "execution_count": null,
   "metadata": {},
   "outputs": [],
   "source": []
  },
  {
   "cell_type": "code",
   "execution_count": null,
   "metadata": {},
   "outputs": [],
   "source": []
  },
  {
   "cell_type": "markdown",
   "metadata": {},
   "source": [
    "## 5.3 Build Logistic Regression\n",
    "#### Let's now build a model to predict click-through-probability. Outcome is binary and we care about explicit insights to give marketing team idea. \n",
    "\n",
    "\n",
    "> ### Unbalanced Class\n",
    "The Click-through-rate in our data is 2.07%, which means the dataset's target variable is highly unbalanced. Let's solve this issue by changing class weights and use a proper evaluation metric, ROC-AUC score instead of accuracy.\n"
   ]
  },
  {
   "cell_type": "code",
   "execution_count": 42,
   "metadata": {},
   "outputs": [],
   "source": [
    "w = []\n",
    "for i in range(0,210,10):\n",
    "    w.append({0:1.0, 1: i})"
   ]
  },
  {
   "cell_type": "code",
   "execution_count": 43,
   "metadata": {},
   "outputs": [],
   "source": [
    "# Hyperparameter GridSearch\n",
    "# define hyperparameters\n",
    "\n",
    "crange = [0.000001, 0.00001, 0.0001, 0.001, 0.01, 0.1, 1, 10, 100, 1000, 10000, 100000, 1000000, 10000000]\n",
    "num_iters = [100, 1000, 5000]\n",
    "hyperparam_grid = {\"class_weight\": w\n",
    "                   ,\"penalty\": [\"l1\", \"l2\"]\n",
    "                   ,\"C\": crange\n",
    "                   , \"max_iter\": num_iters}"
   ]
  },
  {
   "cell_type": "code",
   "execution_count": null,
   "metadata": {},
   "outputs": [],
   "source": []
  },
  {
   "cell_type": "markdown",
   "metadata": {},
   "source": [
    "### Using above range values, lets perform grid-search on logistic regression with Cross validation."
   ]
  },
  {
   "cell_type": "code",
   "execution_count": 44,
   "metadata": {},
   "outputs": [
    {
     "name": "stderr",
     "output_type": "stream",
     "text": [
      "/Users/bing/miniconda3/envs/datascience/lib/python3.9/site-packages/sklearn/model_selection/_validation.py:372: FitFailedWarning: \n",
      "8820 fits failed out of a total of 17640.\n",
      "The score on these train-test partitions for these parameters will be set to nan.\n",
      "If these failures are not expected, you can try to debug them by setting error_score='raise'.\n",
      "\n",
      "Below are more details about the failures:\n",
      "--------------------------------------------------------------------------------\n",
      "8820 fits failed with the following error:\n",
      "Traceback (most recent call last):\n",
      "  File \"/Users/bing/miniconda3/envs/datascience/lib/python3.9/site-packages/sklearn/model_selection/_validation.py\", line 680, in _fit_and_score\n",
      "    estimator.fit(X_train, y_train, **fit_params)\n",
      "  File \"/Users/bing/miniconda3/envs/datascience/lib/python3.9/site-packages/sklearn/linear_model/_logistic.py\", line 1461, in fit\n",
      "    solver = _check_solver(self.solver, self.penalty, self.dual)\n",
      "  File \"/Users/bing/miniconda3/envs/datascience/lib/python3.9/site-packages/sklearn/linear_model/_logistic.py\", line 447, in _check_solver\n",
      "    raise ValueError(\n",
      "ValueError: Solver lbfgs supports only 'l2' or 'none' penalties, got l1 penalty.\n",
      "\n",
      "  warnings.warn(some_fits_failed_message, FitFailedWarning)\n",
      "/Users/bing/miniconda3/envs/datascience/lib/python3.9/site-packages/sklearn/model_selection/_search.py:969: UserWarning: One or more of the test scores are non-finite: [       nan 0.41234332        nan ... 0.73979138        nan 0.73979138]\n",
      "  warnings.warn(\n"
     ]
    },
    {
     "name": "stdout",
     "output_type": "stream",
     "text": [
      "Best score: 0.739940275376312 with param: {'C': 0.01, 'class_weight': {0: 1.0, 1: 70}, 'max_iter': 100, 'penalty': 'l2'}\n"
     ]
    }
   ],
   "source": [
    "# logistic model classifier\n",
    "lg = LogisticRegression(random_state=42)\n",
    "# define evaluation procedure\n",
    "grid = GridSearchCV(lg,hyperparam_grid,scoring=\"roc_auc\", cv=10, n_jobs=-1, refit=True)\n",
    "grid.fit(clean_X_train_dummy, clean_y_train)\n",
    "print(f'Best score: {grid.best_score_} with param: {grid.best_params_}')"
   ]
  },
  {
   "cell_type": "code",
   "execution_count": null,
   "metadata": {},
   "outputs": [],
   "source": []
  },
  {
   "cell_type": "code",
   "execution_count": 46,
   "metadata": {},
   "outputs": [],
   "source": [
    "# Building logistic regression model with above optimal values.\n",
    "C = 0.01\n",
    "weight = 70\n",
    "max_iter = 100\n",
    "penalty = 'l2'\n",
    "\n",
    "# define model\n",
    "lg = LogisticRegression(random_state=42,C=C, class_weight={0: 1, 1: weight}, max_iter = max_iter, penalty= penalty, fit_intercept=True  )\n",
    "# fit it\n",
    "output = lg.fit(clean_X_train_dummy,clean_y_train)\n"
   ]
  },
  {
   "cell_type": "markdown",
   "metadata": {},
   "source": [
    "## 5.4 Model evaluation"
   ]
  },
  {
   "cell_type": "code",
   "execution_count": 47,
   "metadata": {},
   "outputs": [
    {
     "name": "stdout",
     "output_type": "stream",
     "text": [
      "Accuracy Score: 0.5496081374020344\n",
      "Confusion Matrix: \n",
      "[[15969 13395]\n",
      " [  110   511]]\n",
      "Area Under Curve: 0.7408100852402659\n",
      "Recall score: 0.822866344605475\n"
     ]
    }
   ],
   "source": [
    "# test\n",
    "y_pred = lg.predict(X_test_dummy)\n",
    "y_pred_proba = lg.predict_proba(X_test_dummy)\n",
    "# performance\n",
    "print(f'Accuracy Score: {accuracy_score(y_test,y_pred)}')\n",
    "print(f'Confusion Matrix: \\n{confusion_matrix(y_test, y_pred)}')\n",
    "print(f'Area Under Curve: {roc_auc_score(y_test, y_pred_proba[:,1])}') # 0.5\n",
    "print(f'Recall score: {recall_score(y_test,y_pred)}')\n",
    "\n",
    "\n"
   ]
  },
  {
   "cell_type": "code",
   "execution_count": 77,
   "metadata": {},
   "outputs": [],
   "source": [
    "train_true = clean_y_train\n",
    "test_true = y_test\n",
    "train_pred = lg.predict(clean_X_train_dummy)\n",
    "test_pred = lg.predict(X_test_dummy)\n",
    "\n",
    "train_fpr, train_tpr, _ = roc_curve(train_true, train_pred)\n",
    "test_fpr, test_tpr, _ = roc_curve(test_true, test_pred)\n",
    "train_auc = np.round(auc(train_fpr, train_tpr), 3)\n",
    "test_auc = np.round(auc(test_fpr, test_tpr), 3)"
   ]
  },
  {
   "cell_type": "code",
   "execution_count": 78,
   "metadata": {},
   "outputs": [
    {
     "data": {
      "image/png": "[encoded data removed]",
      "text/plain": [
       "<Figure size 576x432 with 1 Axes>"
      ]
     },
     "metadata": {
      "needs_background": "light"
     },
     "output_type": "display_data"
    }
   ],
   "source": [
    "# ROC curves\n",
    "fig, ax = plt.subplots(figsize=(8, 6))\n",
    "ax.plot(train_fpr, train_tpr, label='Train AUC: ' + str(train_auc))\n",
    "ax.plot(test_fpr, test_tpr, label='Test AUC: ' + str(test_auc))\n",
    "ax.set_xlabel('False Positive Rate', fontsize=12)\n",
    "ax.set_ylabel('True Positive Rate', fontsize=12)\n",
    "ax.legend(fontsize=12)\n",
    "plt.show()"
   ]
  },
  {
   "cell_type": "code",
   "execution_count": null,
   "metadata": {},
   "outputs": [],
   "source": []
  },
  {
   "cell_type": "markdown",
   "metadata": {},
   "source": [
    "## 5.5 Model Diagnosis \n",
    "#### Check if the assumption of logistic regression is fullfilled"
   ]
  },
  {
   "cell_type": "markdown",
   "metadata": {},
   "source": [
    "1. check logit linearity is by visually inspecting the scatter plot between each predictor and the logit values."
   ]
  },
  {
   "cell_type": "code",
   "execution_count": 93,
   "metadata": {},
   "outputs": [],
   "source": [
    "# Get the odds from logistic regression on the traning set\n",
    "y_train_pred_proba = lg.predict_proba(clean_X_train_dummy)\n",
    "odds_0 = np.array([x[0] for x in y_train_pred_proba])\n",
    "odds_1 = np.array([x[1] for x in y_train_pred_proba])\n",
    "# Getting log odds values\n",
    "log_odds = np.log(odds_1 / odds_0)\n"
   ]
  },
  {
   "cell_type": "code",
   "execution_count": 179,
   "metadata": {},
   "outputs": [],
   "source": [
    "def plot_feature_vs_log_odds(feature):\n",
    "    \"\"\"\n",
    "    Plot feature vs mean log odds, with standard deviation as the error term.\n",
    "    The feature is a predictor variable\n",
    "    \"\"\"\n",
    "    feature_log_odds =  pd.DataFrame( {feature: clean_X_train_dummy[feature].values, 'log_odds': log_odds})\n",
    "    fig, ax = plt.subplots(figsize=(20,6)) \n",
    "    ax = sns.boxplot(x=feature, y=\"log_odds\", data=feature_log_odds)\n",
    "    ax.set_ylabel(None);\n",
    "    ax.set_xlabel('{}'.format(feature), fontsize=24);\n",
    "    ax.set_ylabel('log odds', fontsize=24);\n",
    "    ax.set_title('Percentile Distibution for user past purchases and log odds', fontsize=28);\n",
    "    plt.tight_layout() # prevent ticks overlapping\n",
    "    plt.show()"
   ]
  },
  {
   "cell_type": "code",
   "execution_count": 180,
   "metadata": {},
   "outputs": [
    {
     "data": {
      "image/png": "[encoded data removed]",
      "text/plain": [
       "<Figure size 1440x432 with 1 Axes>"
      ]
     },
     "metadata": {
      "needs_background": "light"
     },
     "output_type": "display_data"
    }
   ],
   "source": [
    "plot_feature_vs_log_odds('user_past_purchases')"
   ]
  },
  {
   "cell_type": "markdown",
   "metadata": {},
   "source": [
    "#### The above scatter plot shows a clear linear pattern of `User past purchases` vs. `the log-odds`, thereby implying that the assumption of logit linearity is legitimate."
   ]
  },
  {
   "cell_type": "code",
   "execution_count": null,
   "metadata": {},
   "outputs": [],
   "source": []
  },
  {
   "cell_type": "markdown",
   "metadata": {},
   "source": [
    "## 5.6 Model interpretation"
   ]
  },
  {
   "cell_type": "markdown",
   "metadata": {},
   "source": [
    "> ### Sklearn's logistic model does not return the **coefficients significances**, let's calculate those information!"
   ]
  },
  {
   "cell_type": "code",
   "execution_count": 49,
   "metadata": {},
   "outputs": [],
   "source": [
    "def logit_pvalue(model, x_train, y_train, weight):\n",
    "    \"\"\" Calculate z-scores for scikit-learn LogisticRegression.\n",
    "    parameters:\n",
    "        model: fitted sklearn.linear_model.LogisticRegression with intercept and C\n",
    "        x:     matrix on which the model was fit\n",
    "    This function uses asymtptics for maximum likelihood estimates.\n",
    "    \"\"\"\n",
    "    #Prepare the training dataset according to the weight\n",
    "    x = x_train.loc[y_train == 0]\n",
    "    for i in range(weight):\n",
    "        x = x.append(x_train.loc[y_train == 1])\n",
    "    \n",
    "    p = model.predict_proba(x)\n",
    "    n = len(p)\n",
    "    m = len(model.coef_[0]) + 1\n",
    "    coefs = np.concatenate([model.intercept_, model.coef_[0]])\n",
    "    x_full = np.matrix(np.insert(np.array(x), 0, 1, axis = 1)) # add intercept to the beginning\n",
    "    ans = np.zeros((m, m))\n",
    "    for i in range(n):\n",
    "        ans = ans + np.dot(np.transpose(x_full[i, :]), x_full[i, :]) * p[i,1] * p[i, 0] \n",
    "    vcov = np.linalg.inv(np.matrix(ans))\n",
    "    se = np.sqrt(np.diag(vcov))\n",
    "    t =  coefs/se  \n",
    "    p = (1 - norm.cdf(abs(t))) * 2\n",
    "    return p\n"
   ]
  },
  {
   "cell_type": "code",
   "execution_count": 51,
   "metadata": {},
   "outputs": [
    {
     "name": "stdout",
     "output_type": "stream",
     "text": [
      "[0.00000000e+00 0.00000000e+00 0.00000000e+00 0.00000000e+00\n",
      " 0.00000000e+00 0.00000000e+00 4.03738450e-01 0.00000000e+00\n",
      " 0.00000000e+00 0.00000000e+00 2.22044605e-14 0.00000000e+00\n",
      " 0.00000000e+00 0.00000000e+00 0.00000000e+00]\n"
     ]
    }
   ],
   "source": [
    "# test p-values\n",
    "p_values = logit_pvalue(output, clean_X_train_dummy, clean_y_train, weight)\n",
    "print(p_values)\n",
    "\n"
   ]
  },
  {
   "cell_type": "code",
   "execution_count": 52,
   "metadata": {},
   "outputs": [],
   "source": [
    "#Let's create a table showing intercept and other coefficients' information\n",
    "para_df = pd.DataFrame(pd.DataFrame(zip(['intercept'], output.intercept_ ), columns=['features', 'coef']))\n",
    "para_df = para_df.append(pd.DataFrame(zip(clean_X_train_dummy.columns, output.coef_[0] ), columns=['features', 'coef'])) "
   ]
  },
  {
   "cell_type": "code",
   "execution_count": 53,
   "metadata": {},
   "outputs": [],
   "source": [
    "#Add p values\n",
    "para_df['p_values'] = p_values"
   ]
  },
  {
   "cell_type": "code",
   "execution_count": 54,
   "metadata": {},
   "outputs": [
    {
     "data": {
      "text/html": [
       "<div>\n",
       "<style scoped>\n",
       "    .dataframe tbody tr th:only-of-type {\n",
       "        vertical-align: middle;\n",
       "    }\n",
       "\n",
       "    .dataframe tbody tr th {\n",
       "        vertical-align: top;\n",
       "    }\n",
       "\n",
       "    .dataframe thead th {\n",
       "        text-align: right;\n",
       "    }\n",
       "</style>\n",
       "<table border=\"1\" class=\"dataframe\">\n",
       "  <thead>\n",
       "    <tr style=\"text-align: right;\">\n",
       "      <th></th>\n",
       "      <th>features</th>\n",
       "      <th>coef</th>\n",
       "      <th>p_values</th>\n",
       "    </tr>\n",
       "  </thead>\n",
       "  <tbody>\n",
       "    <tr>\n",
       "      <th>0</th>\n",
       "      <td>intercept</td>\n",
       "      <td>-2.836877</td>\n",
       "      <td>0.000000e+00</td>\n",
       "    </tr>\n",
       "    <tr>\n",
       "      <th>0</th>\n",
       "      <td>user_past_purchases</td>\n",
       "      <td>0.237595</td>\n",
       "      <td>0.000000e+00</td>\n",
       "    </tr>\n",
       "    <tr>\n",
       "      <th>1</th>\n",
       "      <td>email_text_short_email</td>\n",
       "      <td>0.322436</td>\n",
       "      <td>0.000000e+00</td>\n",
       "    </tr>\n",
       "    <tr>\n",
       "      <th>2</th>\n",
       "      <td>email_version_personalized</td>\n",
       "      <td>0.674549</td>\n",
       "      <td>0.000000e+00</td>\n",
       "    </tr>\n",
       "    <tr>\n",
       "      <th>3</th>\n",
       "      <td>weekday_Monday</td>\n",
       "      <td>0.437110</td>\n",
       "      <td>0.000000e+00</td>\n",
       "    </tr>\n",
       "    <tr>\n",
       "      <th>4</th>\n",
       "      <td>weekday_Saturday</td>\n",
       "      <td>0.220295</td>\n",
       "      <td>0.000000e+00</td>\n",
       "    </tr>\n",
       "    <tr>\n",
       "      <th>5</th>\n",
       "      <td>weekday_Sunday</td>\n",
       "      <td>0.018628</td>\n",
       "      <td>4.037385e-01</td>\n",
       "    </tr>\n",
       "    <tr>\n",
       "      <th>6</th>\n",
       "      <td>weekday_Thursday</td>\n",
       "      <td>0.594055</td>\n",
       "      <td>0.000000e+00</td>\n",
       "    </tr>\n",
       "    <tr>\n",
       "      <th>7</th>\n",
       "      <td>weekday_Tuesday</td>\n",
       "      <td>0.530529</td>\n",
       "      <td>0.000000e+00</td>\n",
       "    </tr>\n",
       "    <tr>\n",
       "      <th>8</th>\n",
       "      <td>weekday_Wednesday</td>\n",
       "      <td>0.641705</td>\n",
       "      <td>0.000000e+00</td>\n",
       "    </tr>\n",
       "    <tr>\n",
       "      <th>9</th>\n",
       "      <td>user_country_FR</td>\n",
       "      <td>-0.241170</td>\n",
       "      <td>2.220446e-14</td>\n",
       "    </tr>\n",
       "    <tr>\n",
       "      <th>10</th>\n",
       "      <td>user_country_UK</td>\n",
       "      <td>1.078598</td>\n",
       "      <td>0.000000e+00</td>\n",
       "    </tr>\n",
       "    <tr>\n",
       "      <th>11</th>\n",
       "      <td>user_country_US</td>\n",
       "      <td>1.048687</td>\n",
       "      <td>0.000000e+00</td>\n",
       "    </tr>\n",
       "    <tr>\n",
       "      <th>12</th>\n",
       "      <td>hour_binned_morning</td>\n",
       "      <td>0.288990</td>\n",
       "      <td>0.000000e+00</td>\n",
       "    </tr>\n",
       "    <tr>\n",
       "      <th>13</th>\n",
       "      <td>hour_binned_afternoon</td>\n",
       "      <td>0.274462</td>\n",
       "      <td>0.000000e+00</td>\n",
       "    </tr>\n",
       "  </tbody>\n",
       "</table>\n",
       "</div>"
      ],
      "text/plain": [
       "                      features      coef      p_values\n",
       "0                    intercept -2.836877  0.000000e+00\n",
       "0          user_past_purchases  0.237595  0.000000e+00\n",
       "1       email_text_short_email  0.322436  0.000000e+00\n",
       "2   email_version_personalized  0.674549  0.000000e+00\n",
       "3               weekday_Monday  0.437110  0.000000e+00\n",
       "4             weekday_Saturday  0.220295  0.000000e+00\n",
       "5               weekday_Sunday  0.018628  4.037385e-01\n",
       "6             weekday_Thursday  0.594055  0.000000e+00\n",
       "7              weekday_Tuesday  0.530529  0.000000e+00\n",
       "8            weekday_Wednesday  0.641705  0.000000e+00\n",
       "9              user_country_FR -0.241170  2.220446e-14\n",
       "10             user_country_UK  1.078598  0.000000e+00\n",
       "11             user_country_US  1.048687  0.000000e+00\n",
       "12         hour_binned_morning  0.288990  0.000000e+00\n",
       "13       hour_binned_afternoon  0.274462  0.000000e+00"
      ]
     },
     "execution_count": 54,
     "metadata": {},
     "output_type": "execute_result"
    }
   ],
   "source": [
    "para_df"
   ]
  },
  {
   "cell_type": "code",
   "execution_count": 59,
   "metadata": {},
   "outputs": [],
   "source": [
    "#only keep significant variables and order results by coefficient value\n",
    "para_df_result = para_df.loc[para_df['p_values'] < 0.05].sort_values('coef', ascending=False)"
   ]
  },
  {
   "cell_type": "code",
   "execution_count": 61,
   "metadata": {},
   "outputs": [
    {
     "data": {
      "text/html": [
       "<div>\n",
       "<style scoped>\n",
       "    .dataframe tbody tr th:only-of-type {\n",
       "        vertical-align: middle;\n",
       "    }\n",
       "\n",
       "    .dataframe tbody tr th {\n",
       "        vertical-align: top;\n",
       "    }\n",
       "\n",
       "    .dataframe thead th {\n",
       "        text-align: right;\n",
       "    }\n",
       "</style>\n",
       "<table border=\"1\" class=\"dataframe\">\n",
       "  <thead>\n",
       "    <tr style=\"text-align: right;\">\n",
       "      <th></th>\n",
       "      <th>features</th>\n",
       "      <th>coef</th>\n",
       "      <th>p_values</th>\n",
       "    </tr>\n",
       "  </thead>\n",
       "  <tbody>\n",
       "    <tr>\n",
       "      <th>10</th>\n",
       "      <td>user_country_UK</td>\n",
       "      <td>1.078598</td>\n",
       "      <td>0.000000e+00</td>\n",
       "    </tr>\n",
       "    <tr>\n",
       "      <th>11</th>\n",
       "      <td>user_country_US</td>\n",
       "      <td>1.048687</td>\n",
       "      <td>0.000000e+00</td>\n",
       "    </tr>\n",
       "    <tr>\n",
       "      <th>2</th>\n",
       "      <td>email_version_personalized</td>\n",
       "      <td>0.674549</td>\n",
       "      <td>0.000000e+00</td>\n",
       "    </tr>\n",
       "    <tr>\n",
       "      <th>8</th>\n",
       "      <td>weekday_Wednesday</td>\n",
       "      <td>0.641705</td>\n",
       "      <td>0.000000e+00</td>\n",
       "    </tr>\n",
       "    <tr>\n",
       "      <th>6</th>\n",
       "      <td>weekday_Thursday</td>\n",
       "      <td>0.594055</td>\n",
       "      <td>0.000000e+00</td>\n",
       "    </tr>\n",
       "    <tr>\n",
       "      <th>7</th>\n",
       "      <td>weekday_Tuesday</td>\n",
       "      <td>0.530529</td>\n",
       "      <td>0.000000e+00</td>\n",
       "    </tr>\n",
       "    <tr>\n",
       "      <th>3</th>\n",
       "      <td>weekday_Monday</td>\n",
       "      <td>0.437110</td>\n",
       "      <td>0.000000e+00</td>\n",
       "    </tr>\n",
       "    <tr>\n",
       "      <th>1</th>\n",
       "      <td>email_text_short_email</td>\n",
       "      <td>0.322436</td>\n",
       "      <td>0.000000e+00</td>\n",
       "    </tr>\n",
       "    <tr>\n",
       "      <th>12</th>\n",
       "      <td>hour_binned_morning</td>\n",
       "      <td>0.288990</td>\n",
       "      <td>0.000000e+00</td>\n",
       "    </tr>\n",
       "    <tr>\n",
       "      <th>13</th>\n",
       "      <td>hour_binned_afternoon</td>\n",
       "      <td>0.274462</td>\n",
       "      <td>0.000000e+00</td>\n",
       "    </tr>\n",
       "    <tr>\n",
       "      <th>0</th>\n",
       "      <td>user_past_purchases</td>\n",
       "      <td>0.237595</td>\n",
       "      <td>0.000000e+00</td>\n",
       "    </tr>\n",
       "    <tr>\n",
       "      <th>4</th>\n",
       "      <td>weekday_Saturday</td>\n",
       "      <td>0.220295</td>\n",
       "      <td>0.000000e+00</td>\n",
       "    </tr>\n",
       "    <tr>\n",
       "      <th>9</th>\n",
       "      <td>user_country_FR</td>\n",
       "      <td>-0.241170</td>\n",
       "      <td>2.220446e-14</td>\n",
       "    </tr>\n",
       "    <tr>\n",
       "      <th>0</th>\n",
       "      <td>intercept</td>\n",
       "      <td>-2.836877</td>\n",
       "      <td>0.000000e+00</td>\n",
       "    </tr>\n",
       "  </tbody>\n",
       "</table>\n",
       "</div>"
      ],
      "text/plain": [
       "                      features      coef      p_values\n",
       "10             user_country_UK  1.078598  0.000000e+00\n",
       "11             user_country_US  1.048687  0.000000e+00\n",
       "2   email_version_personalized  0.674549  0.000000e+00\n",
       "8            weekday_Wednesday  0.641705  0.000000e+00\n",
       "6             weekday_Thursday  0.594055  0.000000e+00\n",
       "7              weekday_Tuesday  0.530529  0.000000e+00\n",
       "3               weekday_Monday  0.437110  0.000000e+00\n",
       "1       email_text_short_email  0.322436  0.000000e+00\n",
       "12         hour_binned_morning  0.288990  0.000000e+00\n",
       "13       hour_binned_afternoon  0.274462  0.000000e+00\n",
       "0          user_past_purchases  0.237595  0.000000e+00\n",
       "4             weekday_Saturday  0.220295  0.000000e+00\n",
       "9              user_country_FR -0.241170  2.220446e-14\n",
       "0                    intercept -2.836877  0.000000e+00"
      ]
     },
     "execution_count": 61,
     "metadata": {},
     "output_type": "execute_result"
    }
   ],
   "source": [
    "para_df_result"
   ]
  },
  {
   "cell_type": "code",
   "execution_count": 68,
   "metadata": {
    "scrolled": true
   },
   "outputs": [],
   "source": [
    "#Add the change in the odds that Y = 1 associated with one unit change in each feature\n",
    "para_df_result['Change in the odds that Y = 1'] = para_df_result['coef'].apply(lambda x: np.exp(x))"
   ]
  },
  {
   "cell_type": "code",
   "execution_count": 69,
   "metadata": {},
   "outputs": [
    {
     "data": {
      "text/html": [
       "<div>\n",
       "<style scoped>\n",
       "    .dataframe tbody tr th:only-of-type {\n",
       "        vertical-align: middle;\n",
       "    }\n",
       "\n",
       "    .dataframe tbody tr th {\n",
       "        vertical-align: top;\n",
       "    }\n",
       "\n",
       "    .dataframe thead th {\n",
       "        text-align: right;\n",
       "    }\n",
       "</style>\n",
       "<table border=\"1\" class=\"dataframe\">\n",
       "  <thead>\n",
       "    <tr style=\"text-align: right;\">\n",
       "      <th></th>\n",
       "      <th>features</th>\n",
       "      <th>coef</th>\n",
       "      <th>p_values</th>\n",
       "      <th>Change in the odds that Y = 1</th>\n",
       "    </tr>\n",
       "  </thead>\n",
       "  <tbody>\n",
       "    <tr>\n",
       "      <th>10</th>\n",
       "      <td>user_country_UK</td>\n",
       "      <td>1.078598</td>\n",
       "      <td>0.000000e+00</td>\n",
       "      <td>2.940554</td>\n",
       "    </tr>\n",
       "    <tr>\n",
       "      <th>11</th>\n",
       "      <td>user_country_US</td>\n",
       "      <td>1.048687</td>\n",
       "      <td>0.000000e+00</td>\n",
       "      <td>2.853901</td>\n",
       "    </tr>\n",
       "    <tr>\n",
       "      <th>2</th>\n",
       "      <td>email_version_personalized</td>\n",
       "      <td>0.674549</td>\n",
       "      <td>0.000000e+00</td>\n",
       "      <td>1.963147</td>\n",
       "    </tr>\n",
       "    <tr>\n",
       "      <th>8</th>\n",
       "      <td>weekday_Wednesday</td>\n",
       "      <td>0.641705</td>\n",
       "      <td>0.000000e+00</td>\n",
       "      <td>1.899718</td>\n",
       "    </tr>\n",
       "    <tr>\n",
       "      <th>6</th>\n",
       "      <td>weekday_Thursday</td>\n",
       "      <td>0.594055</td>\n",
       "      <td>0.000000e+00</td>\n",
       "      <td>1.811319</td>\n",
       "    </tr>\n",
       "    <tr>\n",
       "      <th>7</th>\n",
       "      <td>weekday_Tuesday</td>\n",
       "      <td>0.530529</td>\n",
       "      <td>0.000000e+00</td>\n",
       "      <td>1.699832</td>\n",
       "    </tr>\n",
       "    <tr>\n",
       "      <th>3</th>\n",
       "      <td>weekday_Monday</td>\n",
       "      <td>0.437110</td>\n",
       "      <td>0.000000e+00</td>\n",
       "      <td>1.548227</td>\n",
       "    </tr>\n",
       "    <tr>\n",
       "      <th>1</th>\n",
       "      <td>email_text_short_email</td>\n",
       "      <td>0.322436</td>\n",
       "      <td>0.000000e+00</td>\n",
       "      <td>1.380486</td>\n",
       "    </tr>\n",
       "    <tr>\n",
       "      <th>12</th>\n",
       "      <td>hour_binned_morning</td>\n",
       "      <td>0.288990</td>\n",
       "      <td>0.000000e+00</td>\n",
       "      <td>1.335078</td>\n",
       "    </tr>\n",
       "    <tr>\n",
       "      <th>13</th>\n",
       "      <td>hour_binned_afternoon</td>\n",
       "      <td>0.274462</td>\n",
       "      <td>0.000000e+00</td>\n",
       "      <td>1.315822</td>\n",
       "    </tr>\n",
       "    <tr>\n",
       "      <th>0</th>\n",
       "      <td>user_past_purchases</td>\n",
       "      <td>0.237595</td>\n",
       "      <td>0.000000e+00</td>\n",
       "      <td>1.268195</td>\n",
       "    </tr>\n",
       "    <tr>\n",
       "      <th>4</th>\n",
       "      <td>weekday_Saturday</td>\n",
       "      <td>0.220295</td>\n",
       "      <td>0.000000e+00</td>\n",
       "      <td>1.246445</td>\n",
       "    </tr>\n",
       "    <tr>\n",
       "      <th>9</th>\n",
       "      <td>user_country_FR</td>\n",
       "      <td>-0.241170</td>\n",
       "      <td>2.220446e-14</td>\n",
       "      <td>0.785708</td>\n",
       "    </tr>\n",
       "    <tr>\n",
       "      <th>0</th>\n",
       "      <td>intercept</td>\n",
       "      <td>-2.836877</td>\n",
       "      <td>0.000000e+00</td>\n",
       "      <td>0.058608</td>\n",
       "    </tr>\n",
       "  </tbody>\n",
       "</table>\n",
       "</div>"
      ],
      "text/plain": [
       "                      features      coef      p_values  \\\n",
       "10             user_country_UK  1.078598  0.000000e+00   \n",
       "11             user_country_US  1.048687  0.000000e+00   \n",
       "2   email_version_personalized  0.674549  0.000000e+00   \n",
       "8            weekday_Wednesday  0.641705  0.000000e+00   \n",
       "6             weekday_Thursday  0.594055  0.000000e+00   \n",
       "7              weekday_Tuesday  0.530529  0.000000e+00   \n",
       "3               weekday_Monday  0.437110  0.000000e+00   \n",
       "1       email_text_short_email  0.322436  0.000000e+00   \n",
       "12         hour_binned_morning  0.288990  0.000000e+00   \n",
       "13       hour_binned_afternoon  0.274462  0.000000e+00   \n",
       "0          user_past_purchases  0.237595  0.000000e+00   \n",
       "4             weekday_Saturday  0.220295  0.000000e+00   \n",
       "9              user_country_FR -0.241170  2.220446e-14   \n",
       "0                    intercept -2.836877  0.000000e+00   \n",
       "\n",
       "    Change in the odds that Y = 1  \n",
       "10                       2.940554  \n",
       "11                       2.853901  \n",
       "2                        1.963147  \n",
       "8                        1.899718  \n",
       "6                        1.811319  \n",
       "7                        1.699832  \n",
       "3                        1.548227  \n",
       "1                        1.380486  \n",
       "12                       1.335078  \n",
       "13                       1.315822  \n",
       "0                        1.268195  \n",
       "4                        1.246445  \n",
       "9                        0.785708  \n",
       "0                        0.058608  "
      ]
     },
     "execution_count": 69,
     "metadata": {},
     "output_type": "execute_result"
    }
   ],
   "source": [
    "para_df_result"
   ]
  },
  {
   "cell_type": "markdown",
   "metadata": {},
   "source": [
    "### How to interpret Categorical Variables:\n",
    "* For each categorical variable, if there are n levels, we create n-1 dummy variables. The remaining level is the reference levels. When every vategorical variable set to 0, each of them takes the reference level, so the intercept denotes the log odds.\n",
    "* The coefficients of each dummy variable is relative to the missing level. For instance, email_text_short_emai compares to long_emails. \n",
    "    * Positive and significant coefficients means this level is better than the reference level. \n",
    "    * Negative and significant coefficients menas this level is worse than the reference level. It does not necessarily mean it discourages users from clicking the link.\n",
    "\n",
    "### How to interpret numerical Variables:\n",
    "* Let β_1 denots the coefficient of the variable. A one unit change in the variable is associated with an e^(β_1) change in the odds that Y=1."
   ]
  },
  {
   "cell_type": "code",
   "execution_count": null,
   "metadata": {},
   "outputs": [],
   "source": []
  },
  {
   "cell_type": "markdown",
   "metadata": {},
   "source": [
    "## 5.7 Product analytics\n",
    "\n",
    "The reference levels for the categorical variables:\n",
    "* email_text:           long_email\n",
    "* email_version:        generic\n",
    "* weekday:              Friday\n",
    "* user_country:             ES\n",
    "* hour_binned:           night "
   ]
  },
  {
   "cell_type": "code",
   "execution_count": 166,
   "metadata": {},
   "outputs": [
    {
     "data": {
      "text/html": [
       "<div>\n",
       "<style scoped>\n",
       "    .dataframe tbody tr th:only-of-type {\n",
       "        vertical-align: middle;\n",
       "    }\n",
       "\n",
       "    .dataframe tbody tr th {\n",
       "        vertical-align: top;\n",
       "    }\n",
       "\n",
       "    .dataframe thead th {\n",
       "        text-align: right;\n",
       "    }\n",
       "</style>\n",
       "<table border=\"1\" class=\"dataframe\">\n",
       "  <thead>\n",
       "    <tr style=\"text-align: right;\">\n",
       "      <th></th>\n",
       "      <th>features</th>\n",
       "      <th>coef</th>\n",
       "      <th>p_values</th>\n",
       "      <th>Change in the odds that Y = 1</th>\n",
       "    </tr>\n",
       "  </thead>\n",
       "  <tbody>\n",
       "    <tr>\n",
       "      <th>10</th>\n",
       "      <td>user_country_UK</td>\n",
       "      <td>1.078598</td>\n",
       "      <td>0.000000e+00</td>\n",
       "      <td>2.940554</td>\n",
       "    </tr>\n",
       "    <tr>\n",
       "      <th>11</th>\n",
       "      <td>user_country_US</td>\n",
       "      <td>1.048687</td>\n",
       "      <td>0.000000e+00</td>\n",
       "      <td>2.853901</td>\n",
       "    </tr>\n",
       "    <tr>\n",
       "      <th>2</th>\n",
       "      <td>email_version_personalized</td>\n",
       "      <td>0.674549</td>\n",
       "      <td>0.000000e+00</td>\n",
       "      <td>1.963147</td>\n",
       "    </tr>\n",
       "    <tr>\n",
       "      <th>8</th>\n",
       "      <td>weekday_Wednesday</td>\n",
       "      <td>0.641705</td>\n",
       "      <td>0.000000e+00</td>\n",
       "      <td>1.899718</td>\n",
       "    </tr>\n",
       "    <tr>\n",
       "      <th>6</th>\n",
       "      <td>weekday_Thursday</td>\n",
       "      <td>0.594055</td>\n",
       "      <td>0.000000e+00</td>\n",
       "      <td>1.811319</td>\n",
       "    </tr>\n",
       "    <tr>\n",
       "      <th>7</th>\n",
       "      <td>weekday_Tuesday</td>\n",
       "      <td>0.530529</td>\n",
       "      <td>0.000000e+00</td>\n",
       "      <td>1.699832</td>\n",
       "    </tr>\n",
       "    <tr>\n",
       "      <th>3</th>\n",
       "      <td>weekday_Monday</td>\n",
       "      <td>0.437110</td>\n",
       "      <td>0.000000e+00</td>\n",
       "      <td>1.548227</td>\n",
       "    </tr>\n",
       "    <tr>\n",
       "      <th>1</th>\n",
       "      <td>email_text_short_email</td>\n",
       "      <td>0.322436</td>\n",
       "      <td>0.000000e+00</td>\n",
       "      <td>1.380486</td>\n",
       "    </tr>\n",
       "    <tr>\n",
       "      <th>12</th>\n",
       "      <td>hour_binned_morning</td>\n",
       "      <td>0.288990</td>\n",
       "      <td>0.000000e+00</td>\n",
       "      <td>1.335078</td>\n",
       "    </tr>\n",
       "    <tr>\n",
       "      <th>13</th>\n",
       "      <td>hour_binned_afternoon</td>\n",
       "      <td>0.274462</td>\n",
       "      <td>0.000000e+00</td>\n",
       "      <td>1.315822</td>\n",
       "    </tr>\n",
       "    <tr>\n",
       "      <th>0</th>\n",
       "      <td>user_past_purchases</td>\n",
       "      <td>0.237595</td>\n",
       "      <td>0.000000e+00</td>\n",
       "      <td>1.268195</td>\n",
       "    </tr>\n",
       "    <tr>\n",
       "      <th>4</th>\n",
       "      <td>weekday_Saturday</td>\n",
       "      <td>0.220295</td>\n",
       "      <td>0.000000e+00</td>\n",
       "      <td>1.246445</td>\n",
       "    </tr>\n",
       "    <tr>\n",
       "      <th>9</th>\n",
       "      <td>user_country_FR</td>\n",
       "      <td>-0.241170</td>\n",
       "      <td>2.220446e-14</td>\n",
       "      <td>0.785708</td>\n",
       "    </tr>\n",
       "    <tr>\n",
       "      <th>0</th>\n",
       "      <td>intercept</td>\n",
       "      <td>-2.836877</td>\n",
       "      <td>0.000000e+00</td>\n",
       "      <td>0.058608</td>\n",
       "    </tr>\n",
       "  </tbody>\n",
       "</table>\n",
       "</div>"
      ],
      "text/plain": [
       "                      features      coef      p_values  \\\n",
       "10             user_country_UK  1.078598  0.000000e+00   \n",
       "11             user_country_US  1.048687  0.000000e+00   \n",
       "2   email_version_personalized  0.674549  0.000000e+00   \n",
       "8            weekday_Wednesday  0.641705  0.000000e+00   \n",
       "6             weekday_Thursday  0.594055  0.000000e+00   \n",
       "7              weekday_Tuesday  0.530529  0.000000e+00   \n",
       "3               weekday_Monday  0.437110  0.000000e+00   \n",
       "1       email_text_short_email  0.322436  0.000000e+00   \n",
       "12         hour_binned_morning  0.288990  0.000000e+00   \n",
       "13       hour_binned_afternoon  0.274462  0.000000e+00   \n",
       "0          user_past_purchases  0.237595  0.000000e+00   \n",
       "4             weekday_Saturday  0.220295  0.000000e+00   \n",
       "9              user_country_FR -0.241170  2.220446e-14   \n",
       "0                    intercept -2.836877  0.000000e+00   \n",
       "\n",
       "    Change in the odds that Y = 1  \n",
       "10                       2.940554  \n",
       "11                       2.853901  \n",
       "2                        1.963147  \n",
       "8                        1.899718  \n",
       "6                        1.811319  \n",
       "7                        1.699832  \n",
       "3                        1.548227  \n",
       "1                        1.380486  \n",
       "12                       1.335078  \n",
       "13                       1.315822  \n",
       "0                        1.268195  \n",
       "4                        1.246445  \n",
       "9                        0.785708  \n",
       "0                        0.058608  "
      ]
     },
     "execution_count": 166,
     "metadata": {},
     "output_type": "execute_result"
    }
   ],
   "source": [
    "para_df_result"
   ]
  },
  {
   "cell_type": "markdown",
   "metadata": {},
   "source": [
    "### 5.7 (1) General Insights\n",
    "* User country seems very important. UK and US are doing much better than Spain and France.\n",
    "    * UK and US both are English speaking countries, while Spain and France are non-English speaking countries. This could mean the emails we sent did not consider local languages, or in general did not localize well. We could ask the marketing team to review email templates and translate them into Spanish and French.\n",
    "* Personalized emails appears to be better. \n",
    "    * The company should send personalized emails instead of general ones. \n",
    "* All weekday coefficients are postive. \n",
    "    * Saturday is not as the weekdays but still better than Friday. Sunday is non-significant, all others are significant. Wednesday and Thursday seem to be the best days, then followed by Tuesday and Monday. Friday - Sunday are worse. The compay should send emails more on Wednesday and Thursday. \n",
    "* Short emails are doing better than long emails.\n",
    "* Timing of sending emails is also important.\n",
    "    * In general, emails sent in the morning or afternoon are better than the ones in the night. Morning and afternoon emails have similar improvement in click-through-rate. \n",
    "* User past purchases has a postive relationship with the click-through-rate.\n",
    "    * Even though the coefficients is not as large as the other variables above, note that we did not normalize the numerical variables so that the interpretation of the coefficient can be straightforward. Here it means one more puchase in the past is associated with the increase in the odds that a user click on the link by 1.26. Considering the largest increase in odds we have from other feature is around 2.94 (user_country_UK), having a user with 3 purchases in the past brings 1.26 * 3 = 3.78 to the odds, which is larger than any other feature's improvement.\n",
    "    * This tells us more purchases a user had before is associated with a higher chance they click on the link in the email. This deserves futher investigation."
   ]
  },
  {
   "cell_type": "markdown",
   "metadata": {},
   "source": [
    "### 5.7 (2) Causality analysis:\n",
    "* **Confounding factors**:\n",
    "    * Features from users needs to be examined: user's country and number of past purchases.\n",
    "    * Besides the language barrier, user's country is likely a proxy for other variabels, such as income, education, age, acceptance of online shopping, etc. We should collect more features from users and analyze.\n",
    "    * Both number of past purchases and whether a user clicks on the link can be caused by counfounding factors like income and education level. People with higher education degree tend to have a habit of checking emails. They are more likely to have higher income, so more items from our site affordable to them, which might lead to more purchases.\n",
    "* **Direction of Causality**: The sequence of a user purchase item and click the link in a email is important. We want to know which of the scenarios:\n",
    "    1. Users are brought to our site by the link in the emails, then they make a purchase, or \n",
    "    2. User didn't see the email, but come to our site via other ways and make a purchase, then tend to check their emails more often for tracking their order, finally click on the link in a email.\n",
    "    * We need time stamps of purchases of the users and emails sent to them.\n",
    "\n"
   ]
  },
  {
   "cell_type": "markdown",
   "metadata": {},
   "source": [
    "### 5.7 (3) Funnel analysis:\n",
    "* A funnel analysis on how users interacting with the emails will be helpful. We want to know which of the scenarios:\n",
    "    * The email was not delivered in the inbox (ended up in spam folder)\n",
    "    * The email was delivered in the inbox: \n",
    "        * The user did not check inbox.\n",
    "        * Users saw the email in the inboox:\n",
    "            * Users saw the email title in the inbox but did not click on it\n",
    "            * Users opened the email:\n",
    "                * Users did not reach to the part where the link was shown\n",
    "                * Users saw the link:\n",
    "                    * Users did not click\n",
    "                    * Users clicked\n",
    "                        * Users clicked by accident\n",
    "                        * **Users clicked and checked some pages on our website.**\n",
    "                            * Users abandoned website without make a purchase\n",
    "                            * **Users made a purchase**\n",
    "* **Define metrics**: If have more features, we could define: \n",
    "    * **click-through-rate** as: the number of users clicked on the link and checked at least one subpage divided by the number of users who opened the email. This will be the main metric we try to **optimize**.\n",
    "    * **Conversion rate** as: the number of users clicked the link and made at least one purchase on the same day divided by the number of users clicked on the link and checked at least one subpage. This will be the **counter metrics** to ensure the optimization of the main metric is leading to a sustainable growth of the product.\n",
    "* In order to improve the click-through-rate, we can first evaluate if the email ended up in spam folder. \n",
    "    * We can build a model and check the relationship between email id and email open results. Email id are generated as they are sent, which is a proxy for time, i.e. the first email sent gets id 1, second id 2, etc. If there is a significant and negative coefficient would mean as time goes by, less and less people are clicking on the email. This could be a big red flag of email services like Outlook or Gmail started labeling us as spam.\n",
    "* Second, we can try to increase **email-open-rate**, that is number of emails opened divided by the number of emails sent.\n",
    "    * We can build a model with user data to see if there are certain groups of users have very low email-open-rate\n",
    "        * For the users not having a habit of checking emails, we could try other marketing methods to get them visit our website. E.g. tv advertising, radio advertising, out-of-home advertising (highway billboards)\n",
    "    * As the model above suggested, try to send emails in morning and afternoon on Monday-Thursday, with a particular focus on Wednesday and Thursday.\n",
    "    * We can try different versions of email titles to see if it increase the email-open-rate.\n",
    "        * Try personalized titles\n",
    "    * Try personalized email topics based on user behaviors:\n",
    "        * New users who have not made a purchase\n",
    "        * Users who made a purchase long time ago\n",
    "        * Justs made a purchase\n",
    "* Third, to increase the chance a user see the link after opening the email, we could try:\n",
    "    * As the model above suggested, try a personalized email.\n",
    "    * As the model above suggested, try a shorter email.\n",
    "    * Moving the link to locations nearer to the beginning of the email.\n",
    "* Finally, to increase the chance a user click on the link after read the email, we could try:\n",
    "    * As the model above suggested, improve personalization of the email."
   ]
  },
  {
   "cell_type": "markdown",
   "metadata": {},
   "source": [
    "### 5.7 (4) Priority of potential projects\n",
    "1. First project to consider: Improve non-English speaking countries emails by localization. This project has the highest priority because its coefficient from the model above is the largest.\n",
    "    1. Transalte emails into local languages (for marketing team)\n",
    "    2. Research if there are other factors influencing user making purchases in non-English speaking countries. Including more user features, e.g. income, type of browser, phone operating system, IP addresses, etc (for marketing team)\n",
    "2. Second project: Improve personalization:\n",
    "    1. Pick the best combination of existed email features: (for data science team)\n",
    "        * The model above shows in general certain levels of the features are better for email click-through-rate. For instance, we found out we should send short emails on Wednesdays more. However, the fact that on an average short emails are better, does not imply short emails are better for every user we have. We could find the best email characteristics for each user group, so a given user group will receive a short email, while another group will receive a long one. One group will receive it on Monday, and one will receive it on Thursday, etc.\n",
    "    2. Add more personalization perspective: (for marketing team)\n",
    "        * Different email topics based on user behaviors:\n",
    "            * New users who have not made a purchase\n",
    "            * Users who made a purchase long time ago\n",
    "            * Justs made a purchase\n",
    "        * Try personalized email titles\n",
    "        * Try to move the link to locations nearer to the beginning of the email.\n",
    "3. Third project: Analyze if our emails are put into spam folder. (for data science team)\n",
    "4. Fourth project Analyze if user past purchases causes higher email click-through-rate or the other way around. (for data science team)\n",
    "    * Include the time stamps of the last user purchases\n",
    "5. Fitfth project: Include user browsing behavior after clicking on the link inside the email, so we could use a more refined click-through-rate: the number of users clicked on the link and checked 1 subpage divided by the number of users who opened the email. (for data science team)\n",
    "6. Sixth project: Try other types of marketing besides emails. (for marketing team)"
   ]
  },
  {
   "cell_type": "code",
   "execution_count": null,
   "metadata": {},
   "outputs": [],
   "source": []
  },
  {
   "cell_type": "markdown",
   "metadata": {},
   "source": [
    "# 6. Use Boosted Decision Tree to personalize email sending strategy"
   ]
  },
  {
   "cell_type": "code",
   "execution_count": null,
   "metadata": {},
   "outputs": [],
   "source": []
  },
  {
   "cell_type": "code",
   "execution_count": null,
   "metadata": {},
   "outputs": [],
   "source": []
  },
  {
   "cell_type": "code",
   "execution_count": null,
   "metadata": {},
   "outputs": [],
   "source": []
  },
  {
   "cell_type": "markdown",
   "metadata": {},
   "source": [
    "# 7. Conduct A/B test to check if the new email sending strategy worth launching"
   ]
  },
  {
   "cell_type": "code",
   "execution_count": null,
   "metadata": {},
   "outputs": [],
   "source": []
  },
  {
   "cell_type": "code",
   "execution_count": null,
   "metadata": {},
   "outputs": [],
   "source": []
  }
 ],
 "metadata": {
  "kernelspec": {
   "display_name": "Python 3 (ipykernel)",
   "language": "python",
   "name": "python3"
  },
  "language_info": {
   "codemirror_mode": {
    "name": "ipython",
    "version": 3
   },
   "file_extension": ".py",
   "mimetype": "text/x-python",
   "name": "python",
   "nbconvert_exporter": "python",
   "pygments_lexer": "ipython3",
   "version": "3.9.10"
  }
 },
 "nbformat": 4,
 "nbformat_minor": 2
}
